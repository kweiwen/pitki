{
 "cells": [
  {
   "cell_type": "code",
   "execution_count": 1,
   "id": "059116dc-d394-4f29-a4ad-09e3a0e17242",
   "metadata": {},
   "outputs": [],
   "source": [
    "import math\n",
    "import numpy as np\n",
    "from scipy import signal\n",
    "import matplotlib.pyplot as plt"
   ]
  },
  {
   "cell_type": "code",
   "execution_count": 2,
   "id": "1b6bb6a3-736a-4441-8b4f-a42b3630dfc7",
   "metadata": {},
   "outputs": [],
   "source": [
    "# Load ipsilateral and contralateral filter coefficients\n",
    "ipsi_data = np.loadtxt('ipsi54cm198cm.csv')\n",
    "cont_data = np.loadtxt('cont54cm198cm.csv')\n",
    "center = (len(cont_data)-1) // 2\n",
    "\n",
    "# Load ipsilateral and contralateral filter coefficients\n",
    "ipsi_data512 = np.loadtxt('ipsi54cm198cm512.csv')\n",
    "cont_data512 = np.loadtxt('cont54cm198cm512.csv')"
   ]
  },
  {
   "cell_type": "code",
   "execution_count": 3,
   "id": "7e566b06-bf03-4c69-a312-0b6eed9fcc0e",
   "metadata": {},
   "outputs": [],
   "source": [
    "def format_coefficient(value):\n",
    "    \"\"\"Format the coefficient to align positive and negative values.\"\"\"\n",
    "    return f\"  {value:.24f}f\" if value >= 0 else f\" {value:.24f}f\""
   ]
  },
  {
   "cell_type": "code",
   "execution_count": 4,
   "id": "c1672754-6f2c-4462-85ef-0726387050f2",
   "metadata": {},
   "outputs": [],
   "source": [
    "target_length = 2049\n",
    "header_filename = \"padded\""
   ]
  },
  {
   "cell_type": "code",
   "execution_count": 5,
   "id": "3b5534e9-8639-48d1-823c-6ec2bcde1870",
   "metadata": {},
   "outputs": [
    {
     "name": "stdout",
     "output_type": "stream",
     "text": [
      "513\n",
      "513\n"
     ]
    }
   ],
   "source": [
    "size = 256\n",
    "ipsi_data_256 = ipsi_data[center-size:center+size+1]\n",
    "cont_data_256 = cont_data[center-size:center+size+1]\n",
    "\n",
    "ipsi_data_padded_256 = np.pad(ipsi_data_256, (0, target_length - len(ipsi_data_256)), mode='constant')\n",
    "cont_data_padded_256 = np.pad(cont_data_256, (0, target_length - len(cont_data_256)), mode='constant')\n",
    "\n",
    "print(len(ipsi_data_256))\n",
    "print(len(cont_data_256))"
   ]
  },
  {
   "cell_type": "code",
   "execution_count": 6,
   "id": "91b81f84-52f1-4a0b-bf6e-d7bd53e9979b",
   "metadata": {},
   "outputs": [
    {
     "name": "stdout",
     "output_type": "stream",
     "text": [
      "257\n",
      "257\n"
     ]
    }
   ],
   "source": [
    "size = 128\n",
    "ipsi_data_128 = ipsi_data[center-size:center+size+1]\n",
    "cont_data_128 = cont_data[center-size:center+size+1]\n",
    "\n",
    "ipsi_data_padded_128 = np.pad(ipsi_data_128, (0, target_length - len(ipsi_data_128)), mode='constant')\n",
    "cont_data_padded_128 = np.pad(cont_data_128, (0, target_length - len(cont_data_128)), mode='constant')\n",
    "\n",
    "print(len(ipsi_data_128))\n",
    "print(len(cont_data_128))"
   ]
  },
  {
   "cell_type": "code",
   "execution_count": 7,
   "id": "732cc293-ba30-4851-8920-e1531f31b7b8",
   "metadata": {},
   "outputs": [
    {
     "name": "stdout",
     "output_type": "stream",
     "text": [
      "Header file 'padded' generated successfully.\n"
     ]
    }
   ],
   "source": [
    "with open(header_filename, \"w\") as f:\n",
    "    # Write ipsi filter coefficients\n",
    "    f.write(\"const float ipsiCoefs54cm198cmPadded256[TAP_SIZE+1] = \\n\")\n",
    "    f.write(\"{\\n\")\n",
    "    f.write(\",\\n\".join(format_coefficient(value) for value in ipsi_data_padded_128))\n",
    "    f.write(\"\\n};\\n\\n\")\n",
    "\n",
    "    # Write cont filter coefficients\n",
    "    f.write(\"const float contCoefs54cm198cmPadded256[TAP_SIZE+1] = \\n\")\n",
    "    f.write(\"{\\n\")\n",
    "    f.write(\",\\n\".join(format_coefficient(value) for value in cont_data_padded_128))\n",
    "    f.write(\"\\n};\\n\\n\")\n",
    "    \n",
    "    # Write ipsi filter coefficients\n",
    "    f.write(\"const float ipsiCoefs54cm198cmPadded512[TAP_SIZE+1] = \\n\")\n",
    "    f.write(\"{\\n\")\n",
    "    f.write(\",\\n\".join(format_coefficient(value) for value in ipsi_data_padded_256))\n",
    "    f.write(\"\\n};\\n\\n\")\n",
    "\n",
    "    # Write cont filter coefficients\n",
    "    f.write(\"const float contCoefs54cm198cmPadded512[TAP_SIZE+1] = \\n\")\n",
    "    f.write(\"{\\n\")\n",
    "    f.write(\",\\n\".join(format_coefficient(value) for value in cont_data_padded_256))\n",
    "    f.write(\"\\n};\\n\\n\")\n",
    "\n",
    "print(f\"Header file '{header_filename}' generated successfully.\")"
   ]
  },
  {
   "cell_type": "code",
   "execution_count": 8,
   "id": "138aa055-b121-4067-a585-3802406fec04",
   "metadata": {},
   "outputs": [
    {
     "data": {
      "text/plain": [
       "[<matplotlib.lines.Line2D at 0x20bda347250>]"
      ]
     },
     "execution_count": 8,
     "metadata": {},
     "output_type": "execute_result"
    },
    {
     "data": {
      "image/png": "[encoded data removed]",
      "text/plain": [
       "<Figure size 640x480 with 1 Axes>"
      ]
     },
     "metadata": {},
     "output_type": "display_data"
    }
   ],
   "source": [
    "plt.plot(ipsi_data_padded_128)\n",
    "plt.plot(cont_data_padded_128)\n",
    "plt.plot(ipsi_data_padded_256)\n",
    "plt.plot(cont_data_padded_256)"
   ]
  },
  {
   "cell_type": "code",
   "execution_count": null,
   "id": "7b393e02-bf4b-402a-9ff9-20591cce3fb2",
   "metadata": {},
   "outputs": [],
   "source": []
  }
 ],
 "metadata": {
  "kernelspec": {
   "display_name": "Python 3 (ipykernel)",
   "language": "python",
   "name": "python3"
  },
  "language_info": {
   "codemirror_mode": {
    "name": "ipython",
    "version": 3
   },
   "file_extension": ".py",
   "mimetype": "text/x-python",
   "name": "python",
   "nbconvert_exporter": "python",
   "pygments_lexer": "ipython3",
   "version": "3.8.1rc1"
  }
 },
 "nbformat": 4,
 "nbformat_minor": 5
}
