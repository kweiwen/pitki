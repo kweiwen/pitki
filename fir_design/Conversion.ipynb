{
 "cells": [
  {
   "cell_type": "code",
   "execution_count": 1,
   "id": "3f6cbc9c-cd82-4f3b-8cab-f79e8a7b8100",
   "metadata": {},
   "outputs": [],
   "source": [
    "import math\n",
    "import numpy as np\n",
    "from scipy import signal\n",
    "import matplotlib.pyplot as plt"
   ]
  },
  {
   "cell_type": "code",
   "execution_count": 2,
   "id": "d61d84e4-7e3d-44ac-bca8-ac042b88c55f",
   "metadata": {},
   "outputs": [],
   "source": [
    "num_taps = 2048\n",
    "cutoff = 0.01\n",
    "fs = 1.0\n",
    "\n",
    "# Generate FIR filter coefficients\n",
    "taps = signal.firwin(num_taps+1, cutoff, window=\"hamming\", pass_zero=True, fs=fs)"
   ]
  },
  {
   "cell_type": "code",
   "execution_count": 4,
   "id": "f8ed8be6-efb7-4117-b43a-7e6526e8e7dd",
   "metadata": {},
   "outputs": [
    {
     "name": "stdout",
     "output_type": "stream",
     "text": [
      "Header file 'filterCoefs.h' generated successfully.\n"
     ]
    }
   ],
   "source": [
    "# Load ipsilateral and contralateral filter coefficients\n",
    "ipsi_data = np.loadtxt('ipsi54cm198cm.csv')\n",
    "cont_data = np.loadtxt('cont54cm198cm.csv')\n",
    "\n",
    "header_filename = \"filterCoefs.h\"\n",
    "\n",
    "def format_coefficient(value):\n",
    "    \"\"\"Format the coefficient to align positive and negative values.\"\"\"\n",
    "    return f\"  {value:.24f}f\" if value >= 0 else f\" {value:.24f}f\"\n",
    "\n",
    "with open(header_filename, \"w\") as f:\n",
    "    # f.write(\"const float lowPassCoefs[TAP_SIZE] = \\n\")\n",
    "    # f.write(\"{\\n\")\n",
    "    # f.write(\",\\n\".join(format_coefficient(tap) for tap in taps))\n",
    "    # f.write(\"\\n};\\n\\n\")\n",
    "\n",
    "    # Write ipsi filter coefficients\n",
    "    f.write(\"const float ipsiCoefs[TAP_SIZE] = \\n\")\n",
    "    f.write(\"{\\n\")\n",
    "    f.write(\",\\n\".join(format_coefficient(value) for value in ipsi_data))\n",
    "    f.write(\"\\n};\\n\\n\")\n",
    "\n",
    "    # Write cont filter coefficients\n",
    "    f.write(\"const float contCoefs[TAP_SIZE] = \\n\")\n",
    "    f.write(\"{\\n\")\n",
    "    f.write(\",\\n\".join(format_coefficient(value) for value in cont_data))\n",
    "    f.write(\"\\n};\\n\\n\")\n",
    "\n",
    "print(f\"Header file '{header_filename}' generated successfully.\")"
   ]
  },
  {
   "cell_type": "code",
   "execution_count": null,
   "id": "f9f4a904-c0e6-4383-a50e-531d7fafe95a",
   "metadata": {},
   "outputs": [],
   "source": []
  }
 ],
 "metadata": {
  "kernelspec": {
   "display_name": "Python 3 (ipykernel)",
   "language": "python",
   "name": "python3"
  },
  "language_info": {
   "codemirror_mode": {
    "name": "ipython",
    "version": 3
   },
   "file_extension": ".py",
   "mimetype": "text/x-python",
   "name": "python",
   "nbconvert_exporter": "python",
   "pygments_lexer": "ipython3",
   "version": "3.8.1rc1"
  }
 },
 "nbformat": 4,
 "nbformat_minor": 5
}
