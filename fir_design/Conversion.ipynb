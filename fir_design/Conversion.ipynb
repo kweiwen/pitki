{
 "cells": [
  {
   "cell_type": "code",
   "execution_count": 1,
   "id": "3f6cbc9c-cd82-4f3b-8cab-f79e8a7b8100",
   "metadata": {},
   "outputs": [],
   "source": [
    "import math\n",
    "import numpy as np\n",
    "from scipy import signal\n",
    "import matplotlib.pyplot as plt"
   ]
  },
  {
   "cell_type": "code",
   "execution_count": 2,
   "id": "f0d04f9c-5113-4a14-a414-64eb1172a737",
   "metadata": {},
   "outputs": [],
   "source": [
    "num_taps = 2048\n",
    "cutoff = 0.01       \n",
    "fs = 1.0     \n",
    "\n",
    "taps = signal.firwin(num_taps+1, cutoff, window=\"hamming\", pass_zero=True, fs=fs)\n",
    "\n",
    "w, h = signal.freqz(taps)\n",
    "\n",
    "header_filename = \"filterCoefs.h\"\n",
    "\n",
    "with open(header_filename, \"w\") as f:\n",
    "    f.write(\"{\\n\")\n",
    "    for tap in taps:\n",
    "        f.write(f\"  {tap:.24f}f,\\n\")\n",
    "    f.write(\"}\\n\")"
   ]
  },
  {
   "cell_type": "code",
   "execution_count": 3,
   "id": "90c9bd43-5d7e-4fea-b9fb-8176292b8647",
   "metadata": {},
   "outputs": [],
   "source": [
    "data = np.loadtxt('ipsi.csv')\n",
    "with open('ipsiFilterCoefs.h', 'w') as f:\n",
    "    f.write(f\"float ipsiFilterCoefs[TAP_SIZE] = \\n\")\n",
    "    f.write(\"{\\n\")\n",
    "    for value in data:\n",
    "        f.write(f\"  {value:.24f}f,\\n\")\n",
    "    f.write(\"}\\n\")"
   ]
  },
  {
   "cell_type": "code",
   "execution_count": 4,
   "id": "a145d7bc-4853-4e69-b7e3-54843926e0ea",
   "metadata": {},
   "outputs": [],
   "source": [
    "data = np.loadtxt('cont.csv')\n",
    "with open('contFilterCoefs.h', 'w') as f:\n",
    "    f.write(f\"float contFilterCoefs[TAP_SIZE] = \\n\")\n",
    "    f.write(\"{\\n\")\n",
    "    for value in data:\n",
    "        f.write(f\"  {value:.24f}f,\\n\")\n",
    "    f.write(\"}\\n\")"
   ]
  },
  {
   "cell_type": "code",
   "execution_count": null,
   "id": "f8ed8be6-efb7-4117-b43a-7e6526e8e7dd",
   "metadata": {},
   "outputs": [],
   "source": []
  }
 ],
 "metadata": {
  "kernelspec": {
   "display_name": "Python 3 (ipykernel)",
   "language": "python",
   "name": "python3"
  },
  "language_info": {
   "codemirror_mode": {
    "name": "ipython",
    "version": 3
   },
   "file_extension": ".py",
   "mimetype": "text/x-python",
   "name": "python",
   "nbconvert_exporter": "python",
   "pygments_lexer": "ipython3",
   "version": "3.8.1rc1"
  }
 },
 "nbformat": 4,
 "nbformat_minor": 5
}
