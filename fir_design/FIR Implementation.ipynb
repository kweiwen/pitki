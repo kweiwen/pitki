{
 "cells": [
  {
   "cell_type": "code",
   "execution_count": 1,
   "id": "ec720641",
   "metadata": {},
   "outputs": [],
   "source": [
    "import math\n",
    "import numpy as np\n",
    "from scipy import signal\n",
    "import matplotlib.pyplot as plt"
   ]
  },
  {
   "cell_type": "code",
   "execution_count": 2,
   "id": "ddd752b0",
   "metadata": {},
   "outputs": [
    {
     "name": "stdout",
     "output_type": "stream",
     "text": [
      "True\n"
     ]
    }
   ],
   "source": [
    "mean = 0\n",
    "std = 1 \n",
    "size = 16\n",
    "xn = np.array([5,4,2,-7,2,-3,9,-6,9,-2,4,1,-3,4,0,4])\n",
    "hn = np.array([1,-2,3,5,-1,2,3,1])\n",
    "\n",
    "class fir:\n",
    "    \n",
    "    def __init__(self, hn):\n",
    "        self.hn = hn\n",
    "        self.previous = np.zeros(len(hn))\n",
    "        \n",
    "    def process_sample(self, input_data):\n",
    "        self.previous[0] = input_data\n",
    "        output = int(np.dot(self.previous, self.hn))\n",
    "        self.previous = np.roll(self.previous, 1)\n",
    "        return output\n",
    "\n",
    "instance = fir(hn)\n",
    "yn1 = []\n",
    "for data in xn:\n",
    "    yn1.append(instance.process_sample(data))\n",
    "\n",
    "yn2 = np.convolve(xn, hn, 'full')[:-7]\n",
    "print(all(yn1 == yn2))"
   ]
  }
 ],
 "metadata": {
  "kernelspec": {
   "display_name": "Python 3 (ipykernel)",
   "language": "python",
   "name": "python3"
  },
  "language_info": {
   "codemirror_mode": {
    "name": "ipython",
    "version": 3
   },
   "file_extension": ".py",
   "mimetype": "text/x-python",
   "name": "python",
   "nbconvert_exporter": "python",
   "pygments_lexer": "ipython3",
   "version": "3.8.1rc1"
  }
 },
 "nbformat": 4,
 "nbformat_minor": 5
}
