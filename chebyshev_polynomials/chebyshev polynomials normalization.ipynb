{
 "cells": [
  {
   "cell_type": "markdown",
   "id": "6a6bdd3f-7548-4877-b5ec-f535f8c00f9d",
   "metadata": {},
   "source": [
    "$$\n",
    "\\begin{align}\n",
    "T_0(x) &= 1                          &U_0(x) &= 1                                                \\\\ \n",
    "T_1(x) &= x                          &U_1(x) &= \\cos(\\pi x)                                      \\\\\n",
    "T_2(x) &= 2x^2-1                     &U_2(x) &= 2\\cos(\\pi x)^2-1                                 \\\\\n",
    "T_3(x) &= 4x^3-3x                    &U_3(x) &= 4\\cos(\\pi x)^3-3\\cos(\\pi x)                      \\\\\n",
    "T_4(x) &= 8x^4-8x^2+1                &U_4(x) &= 8\\cos(\\pi x)^4-8\\cos(\\pi x)^2+1                  \\\\\n",
    "T_5(x) &= 16x^5-20x^3+5x             &U_5(x) &= 16\\cos(\\pi x)^5-20\\cos(\\pi x)^3+5\\cos(\\pi x)     \\\\\n",
    "T_6(x) &= 32x^6-48x^4+18x^2-1        &U_6(x) &= 32\\cos(\\pi x)^6-48\\cos(\\pi x)^4+18\\cos(\\pi x)^2-1\\\\\n",
    "       &\\vdots                               &\\vdots                                             \\\\\n",
    "T_n(x) &= 2xT_{n-1}(x)-T_{n-2}(x)    &U_n(x) &= 2\\cos(\\pi x)T_{n-1}(x)-T_{n-2}(x)                \\\\\n",
    "\\end{align}\n",
    "$$"
   ]
  },
  {
   "cell_type": "markdown",
   "id": "803e63a3-2531-4dc0-948b-5291b8cd1410",
   "metadata": {},
   "source": [
    "$$\n",
    "\\begin{align}\n",
    "f(x) &= \\Sigma_{m=0}^{M} A_m U_m(x) \\\\\n",
    "     &= A_0 U_0(x) + A_1 U_1(x) + A_2 U_2(x) + A_3 U_3(x) + \\cdots + A_m U_m(x) \\\\\n",
    "f'(x) &= p(\\alpha) \\\\ \n",
    "&= \\Sigma_{k=0}^{N}c_kx^k \\\\\n",
    "&= c_0 + c_1x^1 + c_2x^2 + c_3x^3 + \\cdots + c_Nx^N \\\\\n",
    "&= 0 \\\\\n",
    "\\text{EigenValues}(C) &= \\{\\alpha | p(\\alpha)=0\\} \\\\\n",
    "\\end{align}\n",
    "$$"
   ]
  },
  {
   "cell_type": "code",
   "execution_count": null,
   "id": "a0db1ef5-69b7-42c7-a2a7-5a770081651f",
   "metadata": {},
   "outputs": [],
   "source": []
  }
 ],
 "metadata": {
  "kernelspec": {
   "display_name": "Python 3 (ipykernel)",
   "language": "python",
   "name": "python3"
  },
  "language_info": {
   "codemirror_mode": {
    "name": "ipython",
    "version": 3
   },
   "file_extension": ".py",
   "mimetype": "text/x-python",
   "name": "python",
   "nbconvert_exporter": "python",
   "pygments_lexer": "ipython3",
   "version": "3.8.1rc1"
  }
 },
 "nbformat": 4,
 "nbformat_minor": 5
}
