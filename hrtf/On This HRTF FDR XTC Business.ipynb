{
 "cells": [
  {
   "cell_type": "markdown",
   "id": "10b616ed-213d-4c5c-aac2-f6300ae08eb3",
   "metadata": {},
   "source": [
    "Consider head shadow filter which leads to: $$ge^{-jw\\tau} \\equiv ge^{-jw\\tau}h_\\text{hs-ratio}(e^{i\\omega}) = ge^{-jw\\tau}\\frac{h_\\text{hs-cont}(e^{i\\omega})}{h_\\text{hs-ipsi}(e^{i\\omega})}$$"
   ]
  },
  {
   "cell_type": "markdown",
   "id": "d88915cd-855e-4020-82a6-84b56d2cd0d6",
   "metadata": {},
   "source": [
    "The acoustic path was:\n",
    "$$\n",
    "\\begin{align}\n",
    "C &= \n",
    "\\begin{bmatrix}\n",
    "1 & ge^{-iwt} \\\\\n",
    "ge^{-iwt} & 1 \\\\\n",
    "\\end{bmatrix} \\\\\n",
    "C^H &= \n",
    "\\begin{bmatrix}\n",
    "1 & ge^{iwt} \\\\\n",
    "ge^{iwt} & 1 \\\\\n",
    "\\end{bmatrix} \\\\\n",
    "\\end{align}\n",
    "$$\n",
    "\n",
    "And it leads to regularization:\n",
    "$$\n",
    "[{C^H C}+\\beta I]^{-1} C^H\n",
    "$$"
   ]
  },
  {
   "cell_type": "markdown",
   "id": "51223b6e-afc5-40db-b35b-13962ac41af2",
   "metadata": {},
   "source": [
    "If we are considering cont-over-ipsi, now the acoustic path is:\n",
    "$$\n",
    "\\begin{align}\n",
    "C &= \n",
    "\\begin{bmatrix}\n",
    "1 & ghe^{-iwt} \\\\\n",
    "ghe^{-iwt} & 1 \\\\\n",
    "\\end{bmatrix} \\\\\n",
    "C^H &= \n",
    "\\begin{bmatrix}\n",
    "1 & g\\bar{h}e^{iwt} \\\\\n",
    "g\\bar{h}e^{iwt} & 1 \\\\\n",
    "\\end{bmatrix} \\\\\n",
    "\\end{align}\n",
    "$$"
   ]
  },
  {
   "cell_type": "markdown",
   "id": "0c2ff10c-7b49-4383-801c-43a58f58d9f2",
   "metadata": {},
   "source": [
    "- Schlecht, S.J. (2019). Frequency-Dependent Schroeder Allpass Filters. Applied Sciences.\n",
    "- Flip operation\n",
    "$$\n",
    "\\begin{align}\n",
    "H(z) \n",
    "&= \\frac{b_{0}+b_{1}z^{-1}+b_{2}z^{-2}}{a_{0}+a_{1}z^{-1}+a_{2}z^{-2}} \\\\\n",
    "H(e^{jw}) \n",
    "&= \\frac{b_{0}+b_{1}e^{-jw}+b_{2}e^{-2jw}}{a_{0}+a_{1}e^{-jw}+a_{2}e^{-2jw}} \\\\\n",
    "H(e^{jw})^* \n",
    "&= \\bar{h}(e^{jw}) \\\\\n",
    "&= \\frac{b_{0}+b_{1}e^{jw}+b_{2}e^{2jw}}{a_{0}+a_{1}e^{jw}+a_{2}e^{2jw}} \\\\\n",
    "&= \\frac{b_{2}+b_{1}e^{-jw}+b_{0}e^{-2jw}}{a_{2}+a_{1}e^{-jw}+a_{0}e^{-2jw}} \\\\\n",
    "H(z)* \n",
    "&= \\frac{b_{2}+b_{1}z^{-1}+b_{0}z^{-2}}{a_{2}+a_{1}z^{-1}+a_{0}z^{-2}} \\\\\n",
    "\\end{align}\n",
    "$$\n",
    "\n",
    "- Allpass filter\n",
    "\n",
    "$$\n",
    "A(z) = H(z)*\\bar{H}(z)\n",
    "$$"
   ]
  },
  {
   "cell_type": "markdown",
   "id": "da075926-a556-49e7-a7af-77a980037890",
   "metadata": {},
   "source": [
    "It leads to a new regularization equation:\n",
    "\n",
    "$$\n",
    "[{C^H C}+\\beta I]^{-1} C^H\n",
    "$$\n",
    "\n",
    "$$\n",
    "\\begin{align}\n",
    "[CC^H] &= \n",
    "\\begin{bmatrix}\n",
    "1+g^2A & ghe^{-iwt}+g\\bar{h}e^{iwt} \\\\\n",
    "ghe^{-iwt}+g\\bar{h}e^{iwt} & 1+g^2A \\\\\n",
    "\\end{bmatrix} \\\\\n",
    "[{C^H C}+\\beta I] &= \n",
    "\\begin{bmatrix}\n",
    "1+g^2A+\\beta & ghe^{-iwt}+g\\bar{h}e^{iwt} \\\\\n",
    "ghe^{-iwt}+g\\bar{h}e^{iwt} & 1+g^2A+\\beta \\\\\n",
    "\\end{bmatrix} \\\\\n",
    "[{C^H C}+\\beta I]^{-1} &= \n",
    "\\frac{1}{(1+g^2A+\\beta)^2-(ghe^{-iwt}+g\\bar{h}e^{iwt})^2}\n",
    "\\begin{bmatrix}\n",
    "1+g^2A+\\beta & -ghe^{-iwt}-g\\bar{h}e^{iwt} \\\\\n",
    "-ghe^{-iwt}-g\\bar{h}e^{iwt} & 1+g^2A+\\beta \\\\\n",
    "\\end{bmatrix} \\\\\n",
    "[{C^H C}+\\beta I]^{-1}C^H &= \n",
    "\\frac{1}{(1+g^2A+\\beta)^2-(ghe^{-iwt}+g\\bar{h}e^{iwt})^2}\n",
    "\\begin{bmatrix}\n",
    "1+g^2A+\\beta & -ghe^{-iwt}-g\\bar{h}e^{iwt} \\\\\n",
    "-ghe^{-iwt}-g\\bar{h}e^{iwt} & 1+g^2A+\\beta \\\\\n",
    "\\end{bmatrix} \\\\\n",
    "\\begin{bmatrix}\n",
    "1 & g\\bar{h}e^{iwt} \\\\\n",
    "g\\bar{h}e^{iwt} & 1 \\\\\n",
    "\\end{bmatrix} \\\\\n",
    "[{C^H C}+\\beta I]^{-1}C^H &= \n",
    "\\frac{1}{(1+g^2A+\\beta)^2-(ghe^{-iwt}+g\\bar{h}e^{iwt})^2}\n",
    "\\begin{bmatrix}\n",
    "1+g^2A+\\beta-g^2A-g^2\\bar{h^2}e^{2iwt} & (1+g^2A+\\beta)g\\bar{h}e^{iwt}-ghe^{-iwt}-g\\bar{h}e^{iwt} \\\\\n",
    "(1+g^2A+\\beta)g\\bar{h}e^{iwt}-ghe^{-iwt}-g\\bar{h}e^{iwt} & 1+g^2A+\\beta-g^2A-g^2\\bar{h^2}e^{2iwt} \\\\\n",
    "\\end{bmatrix} \\\\\n",
    "[{C^H C}+\\beta I]^{-1}C^H &= \n",
    "\\frac{1}{(1+g^2A+\\beta)^2-(ghe^{-iwt}+g\\bar{h}e^{iwt})^2}\n",
    "\\begin{bmatrix}\n",
    "1+\\beta-g^2\\bar{h^2}e^{2iwt} & (g^2A+\\beta)g\\bar{h}e^{iwt}-ghe^{-iwt} \\\\\n",
    "(g^2A+\\beta)g\\bar{h}e^{iwt}-ghe^{-iwt} & 1+\\beta-g^2\\bar{h^2}e^{2iwt} \\\\\n",
    "\\end{bmatrix} \\\\\n",
    "\\end{align} \n",
    "$$"
   ]
  },
  {
   "cell_type": "markdown",
   "id": "37afff6f",
   "metadata": {},
   "source": [
    "In order to resolve $\\beta$, here's another way to understand regularization:\n",
    "$$\n",
    "\\begin{align}\n",
    "[{C^H C}+\\beta I]^{-1}C^H &= \n",
    "\\frac{1}{a^2-b^2}\n",
    "\\begin{bmatrix}\n",
    "a &  -b\\\\\n",
    "-b &  a\\\\\n",
    "\\end{bmatrix}\n",
    "\\begin{bmatrix}\n",
    "c &  d\\\\\n",
    "d & c \\\\\n",
    "\\end{bmatrix}\\\\\n",
    "&=\n",
    "\\frac{1}{a^2-b^2}\n",
    "\\begin{bmatrix} \n",
    "ac-bd &  ad-bc\\\\\n",
    "ad-bc &  ac-bd\\\\\n",
    "\\end{bmatrix}\\\\\n",
    "&=\n",
    "\\begin{bmatrix} \n",
    "H_{\\rm{ipsi}} &  H_{\\rm{cont}}\\\\\n",
    "H_{\\rm{cont}} &  H_{\\rm{ipsi}}\\\\\n",
    "\\end{bmatrix}\n",
    "\\end{align}\n",
    "$$"
   ]
  },
  {
   "cell_type": "markdown",
   "id": "ff56f6a9",
   "metadata": {},
   "source": [
    "$$\n",
    "\\begin{align}\n",
    "S_\\rm{In-Phase} &= H_{\\rm{ipsi}} + H_{\\rm{cont}} = \\frac{1}{a^2-b^2}(ac-bd+ad-bc) = \\frac{1}{(a-b)(a+b)}(a-b)(c+d)=\\frac{c+d}{a+b}\\\\\n",
    "S_\\rm{Out-Of-Phase} &= H_{\\rm{ipsi}} - H_{\\rm{cont}} = \\frac{1}{a^2-b^2}(ac-bd-ad+bc) = \\frac{1}{(a-b)(a+b)}(a+b)(c-d)=\\frac{c-d}{a-b}\\\\\n",
    "\\end{align}\n",
    "$$"
   ]
  },
  {
   "cell_type": "markdown",
   "id": "86baa9b1",
   "metadata": {},
   "source": [
    "In the FDR approach, $\\gamma$ sets a ceiling on the spectral envelope $\\hat{S}(\\omega)$, of the XTC filter, derived as the maximum of In-Phase and Out-Of-Phase amplitude responses, which is $\\rm{max}[|S_i(\\omega)|,|S_o(\\omega)|]$. Assuming real-valued $\\beta(\\omega)$, this constraint limits spectral coloration while maintaining crosstalk cancellation performance.\n",
    "$$\n",
    "\\begin{align}\n",
    "|S_i| &= \\gamma = |\\frac{c+d}{a+b}| = \\frac{|1+g\\bar{h}e^{i\\omega\\tau}|}{|1+g^2h\\bar{h}+\\beta+ghe^{-i\\omega\\tau}+g\\bar{h}e^{i\\omega\\tau}|}=\\frac{\\sqrt{1+g^2A+ghe^{-i\\omega\\tau}+g\\bar{h}e^{i\\omega\\tau}}}{1+g^2A+\\beta+ghe^{-i\\omega\\tau}+g\\bar{h}e^{i\\omega\\tau}}\\\\\n",
    "|S_o| &= \\gamma = |\\frac{c-d}{a-b}| = \\frac{|1-g\\bar{h}e^{i\\omega\\tau}|}{|1+g^2h\\bar{h}+\\beta-ghe^{-i\\omega\\tau}-g\\bar{h}e^{i\\omega\\tau}|}=\\frac{\\sqrt{1+g^2A-ghe^{-i\\omega\\tau}-g\\bar{h}e^{i\\omega\\tau}}}{1+g^2A+\\beta-ghe^{-i\\omega\\tau}-g\\bar{h}e^{i\\omega\\tau}}\\\\\\\\  \n",
    "\\end{align}\n",
    "$$"
   ]
  },
  {
   "cell_type": "markdown",
   "id": "854fd0e3-374f-4d49-9bf2-196c93265956",
   "metadata": {},
   "source": [
    "Then, for a given target $\\gamma$, we can solve for the frequency-dependent regularization parameters $\\beta_I(\\omega)$ and $\\beta_{II}(\\omega)$ corresponding to the Out-Of-Phase and In-Phase dominant conditions, respectively:\n",
    "$$\n",
    "\\begin{align}\n",
    "|S_i| \\Rightarrow \\beta_{2} &= -1-g^2A-ghe^{-i\\omega\\tau}-g\\bar{h}e^{i\\omega\\tau}+\\frac{\\sqrt{1+g^2A+ghe^{-i\\omega\\tau}+g\\bar{h}e^{i\\omega\\tau}}}{\\gamma}\\\\\n",
    "|S_o| \\Rightarrow \\beta_{1} &= -1-g^2A+ghe^{-i\\omega\\tau}+g\\bar{h}e^{i\\omega\\tau}+\\frac{\\sqrt{1+g^2A-ghe^{-i\\omega\\tau}-g\\bar{h}e^{i\\omega\\tau}}}{\\gamma}\\\\\n",
    "\\end{align}\n",
    "$$"
   ]
  },
  {
   "cell_type": "markdown",
   "id": "86979cf6-7d1f-4170-a0ad-988515d3ee54",
   "metadata": {},
   "source": [
    "To unify both euqations, we can use $\\pm$, $\\mp$, and compactly write:\n",
    "\n",
    "$$\n",
    "\\beta_{1,2} = -1-g^2A \\pm ghe^{-i\\omega\\tau} \\pm g\\bar{h}e^{i\\omega\\tau} + \\frac{\\sqrt{1+g^2A\\mp ghe^{-i\\omega\\tau} \\mp g\\bar{h}e^{i\\omega\\tau}}}{\\gamma}\n",
    "$$"
   ]
  },
  {
   "cell_type": "markdown",
   "id": "6f35a849-a570-48d2-829b-22db34c6809a",
   "metadata": {},
   "source": [
    "Therefore, under the two regularization conditions (In-Phase and Out-Of-Phase), we obtain two distinct expressions for each of the ipsilateral and contralateral transfer functions, resulting in four total equations:\n",
    "\n",
    "$$\n",
    "\\begin{align}\n",
    "H_{\\rm{ipsi}1} &= \\\\\n",
    "H_{\\rm{ipsi}2} &= \\\\\n",
    "H_{\\rm{cont}1} &= \\\\\n",
    "H_{\\rm{cont}2} &= \\\\\n",
    "\\end{align}\n",
    "$$"
   ]
  },
  {
   "cell_type": "code",
   "execution_count": null,
   "id": "34e9613c",
   "metadata": {},
   "outputs": [],
   "source": []
  },
  {
   "cell_type": "code",
   "execution_count": null,
   "id": "ad8cea2a",
   "metadata": {},
   "outputs": [],
   "source": []
  },
  {
   "cell_type": "code",
   "execution_count": null,
   "id": "2eaf6cac",
   "metadata": {},
   "outputs": [],
   "source": []
  },
  {
   "cell_type": "code",
   "execution_count": null,
   "id": "0009d8f5",
   "metadata": {},
   "outputs": [],
   "source": []
  },
  {
   "cell_type": "markdown",
   "id": "4bbc14ba-2753-4a7a-9a5f-cb7ad2296b3c",
   "metadata": {},
   "source": [
    "$$\n",
    "\\begin{align}\n",
    "a &= ghe^{-i\\omega\\tau}\\\\\n",
    "b &= g\\bar{h}e^{i\\omega\\tau} \\\\\n",
    "\\end{align}\n",
    "$$"
   ]
  },
  {
   "cell_type": "markdown",
   "id": "7c4240c6-091c-4356-bfd5-b2f21cf03e19",
   "metadata": {},
   "source": [
    "$$\n",
    "\\begin{align}\n",
    "S_i \n",
    "&= |\\frac{1+\\beta-b^2+(ab+\\beta)b-a}{(1+ab+\\beta)^2-(a+b)^2}| \\\\\n",
    "&= |\\frac{1+\\beta-b^2+ab^2+\\beta b-a}{(1+ab+\\beta)^2-(a+b)^2}| \\\\\n",
    "&= |\\frac{1+\\beta-b^2+ab^2+\\beta b-a}{(1+ab+\\beta-a-b)(1+ab+\\beta+a+b)}| \\\\\n",
    "&= |\\frac{1+\\beta-b^2+ab^2+\\beta b-a}{[(a-1)(b-1)+\\beta][(a+1)(b+1)+\\beta]}| \\\\\n",
    "&= |\\frac{1-b^2+\\beta+a(b^2-1)+\\beta b}{[(a-1)(b-1)+\\beta][(a+1)(b+1)+\\beta]}| \\\\\n",
    "&= |\\frac{(a-1)(b^2-1)+\\beta+\\beta b}{[(a-1)(b-1)+\\beta][(a+1)(b+1)+\\beta]}| \\\\\n",
    "&= |\\frac{(a-1)(b^2-1)+\\beta(b+1)}{[(a-1)(b-1)+\\beta][(a+1)(b+1)+\\beta]}| \\\\\n",
    "&= |\\frac{(a-1)(b-1)(b+1)+\\beta(b+1)}{[(a-1)(b-1)+\\beta][(a+1)(b+1)+\\beta]}| \\\\\n",
    "&= |\\frac{(b+1)[(a-1)(b-1)+\\beta]}{[(a-1)(b-1)+\\beta][(a+1)(b+1)+\\beta]}| \\\\\n",
    "&= |\\frac{(b+1)}{[(a+1)(b+1)+\\beta]}| \\\\\n",
    "\\end{align}\n",
    "$$"
   ]
  },
  {
   "cell_type": "markdown",
   "id": "56879201-978a-4ac5-b174-88b97196dbf2",
   "metadata": {},
   "source": [
    "$$\n",
    "\\begin{align}\n",
    "S_o \n",
    "&= |\\frac{1+\\beta-b^2-(ab+\\beta)b+a}{(1+ab+\\beta)^2-(a+b)^2}| \\\\\n",
    "&= |\\frac{1-b^2+\\beta-a(b^2-1)-\\beta b}{(1+ab+\\beta)^2-(a+b)^2}| \\\\\n",
    "&= |\\frac{1-b^2+\\beta+a(1-b^2)-\\beta b}{(1+ab+\\beta)^2-(a+b)^2}| \\\\\n",
    "&= |\\frac{(a+1)(1-b)(1+b)+\\beta(1-b)}{(1+ab+\\beta)^2-(a+b)^2}| \\\\\n",
    "&= |\\frac{(1-b)[(a+1)(1+b)+\\beta]}{(1+ab+\\beta)^2-(a+b)^2}| \\\\\n",
    "&= |\\frac{(1-b)[(a+1)(1+b)+\\beta]}{[(a-1)(b-1)+\\beta][(a+1)(b+1)+\\beta]}| \\\\\n",
    "&= |\\frac{(1-b)}{[(a-1)(b-1)+\\beta]}| \\\\\n",
    "\\end{align}\n",
    "$$"
   ]
  },
  {
   "cell_type": "markdown",
   "id": "a3b06c05-1243-44a5-b2aa-8ac79648c7b2",
   "metadata": {},
   "source": [
    "$$\n",
    "\\begin{align}\n",
    "\\hat{S}(\\omega) \n",
    "&= \\rm{max}[S_i(\\omega),S_o(\\omega)] \\\\\n",
    "&= \\rm{max}[|\\frac{(b+1)}{[(a+1)(b+1)+\\beta]}|,|\\frac{(1-b)}{[(a-1)(b-1)+\\beta]}|]\\\\\n",
    "&= \\rm{max}[\\sqrt{\\frac{(b+1)(b^*+1)}{[(a+1)(b+1)+\\beta][(a^*+1)(b^*+1)+\\beta^*]}},\\sqrt{\\frac{(1-b)(1-b^*)}{[(a-1)(b-1)+\\beta][(a^*-1)(b^*-1)+\\beta^*]}}] \\\\\n",
    "&= \\rm{max}[\\sqrt{\\frac{(b+1)(a+1)}{[(a+1)(b+1)+\\beta][(b+1)(a+1)+\\beta^*]}},\\sqrt{\\frac{(1-b)(1-a)}{[(a-1)(b-1)+\\beta][(b-1)(a-1)+\\beta^*]}}] \\\\\n",
    "\\gamma &= \\sqrt{\\frac{(b+1)(a+1)}{[(a+1)(b+1)+\\beta][(b+1)(a+1)+\\beta^*]}} \\\\\n",
    "\\gamma &= \\sqrt{\\frac{(1-b)(1-a)}{[(a-1)(b-1)+\\beta][(b-1)(a-1)+\\beta^*]}} \\\\\n",
    "\\end{align}\n",
    "$$"
   ]
  },
  {
   "cell_type": "markdown",
   "id": "3fa6e932-35b0-436c-a601-e38f1e7db7a3",
   "metadata": {},
   "source": [
    "$$\n",
    "|\\frac{1+B-g^2e^{2iwt} + (g^2+B)ge^{iwt}-ge^{-iwt}}{(1+g^2+B)^2 - g^2(e^{-iwt}+e^{iwt})^2}|\n",
    "$$"
   ]
  },
  {
   "cell_type": "markdown",
   "id": "d39bb2db-2654-484a-a530-6f91aceefc45",
   "metadata": {},
   "source": [
    "$$\n",
    "\\frac{\\sqrt{g^2+2g\\cos(\\omega t)+1}}{g^2+2g\\cos(\\omega t)+B+1}\n",
    "$$"
   ]
  },
  {
   "cell_type": "markdown",
   "id": "be2552d4-75be-4c66-ab1c-a84a0a66586c",
   "metadata": {},
   "source": [
    "$$\n",
    "1+B-g^2e^{2iwt} + (g^2+B)ge^{iwt}-ge^{-iwt}\n",
    "$$"
   ]
  },
  {
   "cell_type": "markdown",
   "id": "93c5f5e4-b59a-49b4-ac58-43c795d003ba",
   "metadata": {},
   "source": [
    "$$\n",
    "\\frac{1+B-g^2e^{2iwt} + (g^2+B)ge^{iwt}-ge^{-iwt}}{(g^2+B)^2+2B+1 - g^2(e^{-2iwt}+e^{2iwt})}\n",
    "$$"
   ]
  },
  {
   "cell_type": "markdown",
   "id": "871617da-fd8a-498c-8d9a-7df8403ec077",
   "metadata": {},
   "source": [
    "$$\n",
    "\\begin{align}\n",
    "\\beta(\\rm{Out Of Phase})\\\\\n",
    "\\beta(\\rm{In Phase})\\\\\n",
    "\\beta_{1,2}\\\\\n",
    "\\end{align}\n",
    "$$"
   ]
  },
  {
   "cell_type": "markdown",
   "id": "7e3d94f3-5bfe-433a-a13c-bdd2c925c1b7",
   "metadata": {},
   "source": [
    "$$\n",
    "\\frac{1}{1+2g^2A+2\\beta+g^4A^2+2g^2A\\beta+\\beta^2-g^2h^2e^{-2i\\omega\\tau}-2g^2A^2-g^2\\stackrel\\rightleftharpoons{h^2}e^{2iwt}}\n",
    "$$\n",
    "\n",
    "$$\n",
    "\\frac{1}{1+2\\beta+g^4A^2+2g^2A\\beta+\\beta^2-g^2h^2e^{-2i\\omega\\tau}-g^2\\stackrel\\rightleftharpoons{h^2}e^{2iwt}}\n",
    "$$\n",
    "\n",
    "$$\n",
    "\\frac{1}{(1+ab+\\beta)^2-(a+b)^2}[1+\\beta-b^2,(ab+\\beta)b-a]\n",
    "$$"
   ]
  },
  {
   "cell_type": "markdown",
   "id": "c8ab4c91-d1a1-4cfe-9901-f06d11e7a741",
   "metadata": {},
   "source": [
    "$$\n",
    "|1-\\frac{g}{g+e^{iw\\tau}}| = \\frac{1}{\\sqrt{g^2+2g\\cos(w\\tau)+1}}\n",
    "$$"
   ]
  },
  {
   "cell_type": "markdown",
   "id": "be4ab829-6110-4ece-b705-47b7ad1765bf",
   "metadata": {},
   "source": [
    "$$\n",
    "\\begin{align}\n",
    "x &\\equiv 2g\\cos(\\omega\\tau_c) \\\\\n",
    "z' &= e^{i2w\\tau_c} \\\\\n",
    "H_\\text{ipsi}(i\\omega) &= \\frac{\\gamma ^ 2 (\\pm x -g^2 (e^{2i\\omega\\tau_c} + 1) + \\gamma \\sqrt{g^2 \\mp x+1})}{g^2 \\pm x(2\\gamma \\sqrt{g^2 \\mp x+1} - 1) + 1} \\\\\n",
    "H_\\text{cont}(i\\omega) &= \\frac{\\mp \\gamma^2(\\pm x - g^2 (e^{2i\\omega\\tau_c}+1)) + g \\gamma e^{i\\omega\\tau_c} \\sqrt{g^2 \\mp x + 1}}{g^2 \\pm x(2\\gamma \\sqrt{g^2 \\mp x+1} - 1) + 1} \\\\\n",
    "h_\\text{ipsi}(t) &= (\\psi_0 + \\gamma \\psi_1) * \\psi_a \\\\\n",
    "h_\\text{cont}(t) &= (\\mp \\psi_0 + \\gamma g \\delta(t+\\tau_c)*\\psi_1) * \\psi_a \\\\\n",
    "\\psi_a &= \\pm\\psi_2 * \\psi_3 \\pm (\\psi_1 \\mp \\psi_4) * \\psi_5 * \\psi_6(c_1) * \\psi_6(c_2) \\\\\n",
    "\\end{align}\n",
    "$$"
   ]
  }
 ],
 "metadata": {
  "kernelspec": {
   "display_name": "Python 3 (ipykernel)",
   "language": "python",
   "name": "python3"
  },
  "language_info": {
   "codemirror_mode": {
    "name": "ipython",
    "version": 3
   },
   "file_extension": ".py",
   "mimetype": "text/x-python",
   "name": "python",
   "nbconvert_exporter": "python",
   "pygments_lexer": "ipython3",
   "version": "3.8.1rc1"
  }
 },
 "nbformat": 4,
 "nbformat_minor": 5
}
