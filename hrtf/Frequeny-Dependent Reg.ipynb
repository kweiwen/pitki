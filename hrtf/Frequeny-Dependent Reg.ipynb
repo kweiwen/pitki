{
 "cells": [
  {
   "cell_type": "markdown",
   "id": "d7757f3e-2dd1-491d-8220-ae0a68d593af",
   "metadata": {},
   "source": [
    "$$\n",
    "\\begin{align}\n",
    "\\text{In-Phase Spectral} &= \\frac{\\sqrt{g^2+2g\\cos(\\omega\\tau_c)+1}}{g^2+2g\\cos(\\omega\\tau_c)+\\beta+1} \\\\\n",
    "\\text{Out-of-Phase Spectral} &= \\frac{\\sqrt{g^2-2g\\cos(\\omega\\tau_c)+1}}{g^2-2g\\cos(\\omega\\tau_c)+\\beta+1} \\\\\n",
    "\\text{Total Coloration} &= \\text{max}(\\text{In-Phase Spectral}, \\text{Out-of-Phase Spectral}) \\\\\n",
    "&= \\text{max}(\\frac{\\sqrt{g^2+2g\\cos(\\omega\\tau_c)+1}}{g^2+2g\\cos(\\omega\\tau_c)+\\beta+1},\\frac{\\sqrt{g^2-2g\\cos(\\omega\\tau_c)+1}}{g^2-2g\\cos(\\omega\\tau_c)+\\beta+1}) \\\\\n",
    "\\text{In-Phase Spectral}_\\text{Flatten Peak} &= 1 = \\frac{\\sqrt{g^2+2g\\cos(\\omega\\tau_c)+1}}{g^2+2g\\cos(\\omega\\tau_c)+\\beta+1} \\\\\n",
    "\\text{Out-of-Phase Spectral}_\\text{Flatten Peak} &= 1 = \\frac{\\sqrt{g^2-2g\\cos(\\omega\\tau_c)+1}}{g^2-2g\\cos(\\omega\\tau_c)+\\beta+1}\\\\\n",
    "\\end{align}\n",
    "$$"
   ]
  },
  {
   "cell_type": "markdown",
   "id": "12462528-2e47-417b-8385-84027cf38239",
   "metadata": {},
   "source": [
    "$$\n",
    "\\gamma = 10^{\\Gamma / 20}\n",
    "$$ \n",
    "$$\n",
    "\\begin{align}\n",
    "\\beta_\\text{In-Phase}(\\omega) = \\beta_\\rm{II}(\\omega) &= -g^2 - 2g\\cos(\\omega\\tau_c) +\\frac{\\sqrt{g^2+2g\\cos(\\omega\\tau_c)+1}}{\\gamma} - 1 \\\\\n",
    "\\beta_\\text{Out-of-Phase}(\\omega) = \\beta_\\rm{I}(\\omega) &= -g^2 + 2g\\cos(\\omega\\tau_c) +\\frac{\\sqrt{g^2-2g\\cos(\\omega\\tau_c)+1}}{\\gamma} - 1 \\\\\n",
    "\\end{align}\n",
    "$$"
   ]
  },
  {
   "cell_type": "markdown",
   "id": "e9ae39ce-4eef-464c-9f9f-fc31f5d64891",
   "metadata": {},
   "source": [
    "$$\n",
    "\\begin{align}\n",
    "z &= e^{i2wt} \\\\\n",
    "H^{|B|}_{LL}(z) = H^{|B|}_{RR}(z) &= \\frac{z^2g^2-z(B+1)}{z^2g^2+g^2-z[(g^2+B)^2+2B+1]} \\\\\n",
    "H^{|B|}_{LR}(z) = H^{|B|}_{RL}(z) &= \\frac{z[gz^{-\\frac{1}{2}}-g(g^2+B)z^{\\frac{1}{2}}]}{z^2g^2+g^2-z[(g^2+B)^2+2B+1]} \\\\\n",
    "\\end{align}\n",
    "$$"
   ]
  },
  {
   "cell_type": "code",
   "execution_count": 1,
   "id": "fe0d402d-9b9d-4434-b64c-917d510a01af",
   "metadata": {},
   "outputs": [],
   "source": [
    "import numpy as np\n",
    "import matplotlib.pyplot as plt\n",
    "from matplotlib.ticker import ScalarFormatter\n",
    "import matplotlib.ticker as ticker\n",
    "from scipy.special import binom\n",
    "from sympy import binomial"
   ]
  },
  {
   "cell_type": "code",
   "execution_count": 2,
   "id": "b477ae26-349e-46e1-87cf-2bd461ccc269",
   "metadata": {},
   "outputs": [],
   "source": [
    "# Parameters\n",
    "l = 1.6  # L\n",
    "dr = 0.15  # Distance between ears\n",
    "theta = (18 / 180) * np.pi  # Half the speaker span\n",
    "l1 = np.sqrt(l**2 + (dr / 2)**2 - (dr * l * np.sin(theta / 2)))  # L1\n",
    "l2 = np.sqrt(l**2 + (dr / 2)**2 + (dr * l * np.sin(theta / 2)))  # L2\n",
    "g = l1 / l2  # g\n",
    "cs = 340.3  # Speed of sound\n",
    "dl = abs(l2 - l1)  # Distance difference\n",
    "tc = dl / cs  # Time delay\n",
    "tau_s = 3\n",
    "tau_c = 68e-6  # Time delay for a normal listening room\n",
    "g = 0.985\n",
    "fs = 44100\n",
    "gamma_db = 7"
   ]
  },
  {
   "cell_type": "code",
   "execution_count": 3,
   "id": "ec32bff6-5a41-4207-8e53-6bd1561e596c",
   "metadata": {},
   "outputs": [],
   "source": [
    "def gamma_db2gain(db):\n",
    "    return 10 ** (db / 20)"
   ]
  },
  {
   "cell_type": "code",
   "execution_count": 4,
   "id": "144ae005-66c7-4921-9c0e-7b45ca37a8be",
   "metadata": {},
   "outputs": [],
   "source": [
    "r = gamma_db2gain(gamma_db)"
   ]
  },
  {
   "cell_type": "markdown",
   "id": "f19d75b9-c5ae-4315-a700-e2507e7790ea",
   "metadata": {},
   "source": [
    "$$\n",
    "\\binom{n}{k} = \\frac{n!}{k!(n-k)!}\n",
    "$$"
   ]
  },
  {
   "cell_type": "code",
   "execution_count": 5,
   "id": "a7ab77d1-d4a2-492b-af66-dcb232b40f31",
   "metadata": {},
   "outputs": [],
   "source": [
    "def delta_function(filter_length, t_shift):\n",
    "    \"\"\"Generates a discrete delta function.\"\"\"\n",
    "    t_values = np.arange(-filter_length, filter_length + 1)\n",
    "    delta = np.zeros_like(t_values)\n",
    "    center_idx = filter_length\n",
    "\n",
    "    shift_idx = center_idx - t_shift\n",
    "    if shift_idx < 0 or shift_idx >= len(delta):\n",
    "        return delta\n",
    "    \n",
    "    delta[shift_idx] = 1\n",
    "    return delta"
   ]
  },
  {
   "cell_type": "markdown",
   "id": "ec1adca3",
   "metadata": {},
   "source": [
    "$$\n",
    "\\psi_0 = -g^2r^2 \\delta(t) \\pm gr^2 \\delta(\\tau_c-t) \\pm gr^2 \\delta(t+\\tau_c) -g^2r^2 \\delta(t+2\\tau_c)\n",
    "$$"
   ]
  },
  {
   "cell_type": "code",
   "execution_count": 6,
   "id": "3d438e4c",
   "metadata": {},
   "outputs": [],
   "source": [
    "def psi_0(g, r, tau, branch, t):\n",
    "    pm = 1 if branch == 1 else -1 \n",
    "    \n",
    "    comp1 = -g*g*r*r*delta_function(t, 0) \n",
    "    comp2 = pm*g*r*r*delta_function(t, -tau) \n",
    "    comp3 = pm*g*r*r*delta_function(t,  tau) \n",
    "    comp4 = -g*g*r*r*delta_function(t, 2 * tau)\n",
    "\n",
    "    return comp1 + comp2 + comp3 + comp4"
   ]
  },
  {
   "cell_type": "markdown",
   "id": "a57a508e",
   "metadata": {},
   "source": [
    "$$\n",
    "\\psi_1 = \\sum_{m=0}^{\\infty} \\binom{1/2}{m} (\\mp g)^m (g^2 + 1)^{1/2-m} \\times \\sum_{k=0}^m \\binom{m}{k} \\delta(2k\\tau_c - t - m\\tau_c)\n",
    "$$"
   ]
  },
  {
   "cell_type": "code",
   "execution_count": 7,
   "id": "0913aac1",
   "metadata": {},
   "outputs": [],
   "source": [
    "def psi_1(g, tau, branch, t):\n",
    "    output = np.zeros(t*2+1, dtype=float)\n",
    "\n",
    "    mp = -1 if branch == 1 else 1  \n",
    "\n",
    "    for m in range(t):\n",
    "        comp1 = binom(0.5, m) * (mp * g)**m * (g**2 + 1)**(0.5 - m)\n",
    "\n",
    "        for k in range(m):\n",
    "            comp2 = binom(m, k) * delta_function(t, -2 * k * tau + m * tau)\n",
    "            output += comp1 * comp2\n",
    "\n",
    "    return output"
   ]
  },
  {
   "cell_type": "markdown",
   "id": "2d75d233",
   "metadata": {},
   "source": [
    "$$\n",
    "\\psi_2 = \\pm \\frac{1}{4g\\gamma} \\sum_{m=0}^{\\infty} \\binom{-1/2}{m} (-1)^m \\times \\sum_{k=0}^{2m} \\binom{2m}{k} (-1)^{k+m}4^{-m}\\delta(t + 2k\\tau_c - 2m\\tau_c)\n",
    "$$"
   ]
  },
  {
   "cell_type": "code",
   "execution_count": 8,
   "id": "54bdc104",
   "metadata": {},
   "outputs": [],
   "source": [
    "def psi_2(g, gamma, tau, branch, t):\n",
    "    output = np.zeros(t*2+1, dtype=float)\n",
    "    \n",
    "    pm = 1 if branch == 1 else -1 \n",
    "\n",
    "    prefactor = pm / (4 * g * gamma)  \n",
    "    \n",
    "    for m in range(t): \n",
    "        comp1 = binom(-0.5, m) * (-1)**m\n",
    "        \n",
    "        for k in range(2 * m + 1):\n",
    "            comp2 = binom(2 * m, k) * (-1)**(k + m) * 4**(-m) * delta_function(t, 2 * k * tau - 2 * m * tau)\n",
    "            output += comp1 * comp2\n",
    "    \n",
    "    return prefactor * output"
   ]
  },
  {
   "cell_type": "markdown",
   "id": "d4461cb0",
   "metadata": {},
   "source": [
    "$$\n",
    "\\psi_3 = \\sum_{m=0}^{\\infty} \\binom{-1/2}{m} (\\mp g)^m (g^2 + 1)^{1/2-m} \\times \\sum_{k=0}^m \\binom{m}{k} \\delta(2k\\tau_c - t - m\\tau_c)\n",
    "$$"
   ]
  },
  {
   "cell_type": "code",
   "execution_count": 9,
   "id": "7d6efdc4",
   "metadata": {},
   "outputs": [],
   "source": [
    "def psi_3(g, tau, branch, t):\n",
    "    output = np.zeros(t*2+1, dtype=float)\n",
    "    \n",
    "    mp = -1 if branch == 1 else 1  \n",
    "\n",
    "    for m in range(t):\n",
    "        comp1 = binom(-0.5, m) * (mp * g)**m * (g**2 + 1)**(0.5 - m)\n",
    "        \n",
    "        for k in range(m + 1):\n",
    "            comp2 = binom(m, k) * delta_function(t, -2 * k * tau + m * tau)\n",
    "            output += comp1 * comp2 \n",
    "    \n",
    "    return output"
   ]
  },
  {
   "cell_type": "markdown",
   "id": "6be7d761",
   "metadata": {},
   "source": [
    "$$\n",
    "\\psi_4 = 2g\\gamma\\delta(\\tau_c - t) + 2g\\gamma\\delta(t + \\tau_c)\n",
    "$$"
   ]
  },
  {
   "cell_type": "code",
   "execution_count": 10,
   "id": "6d5a90b6",
   "metadata": {},
   "outputs": [],
   "source": [
    "def psi_4(g, gamma, tau, t):\n",
    "    comp1 = 2 * g * gamma * delta_function(t, -tau)\n",
    "    comp2 = 2 * g * gamma * delta_function(t,  tau)\n",
    "    \n",
    "    return comp1 + comp2"
   ]
  },
  {
   "cell_type": "markdown",
   "id": "0d62abfc",
   "metadata": {},
   "source": [
    "$$\n",
    "\\psi_5 = \\pm \\frac{1}{(4g\\gamma)^3} \\sum_{m=0}^{\\infty} \\binom{-3/2}{m} (-1)^m \\times \\sum_{k=0}^{2m} \\binom{2m}{k} (-1)^{k+m}4^{-m}\\delta(t + 2k\\tau_c - 2m\\tau_c)\n",
    "$$"
   ]
  },
  {
   "cell_type": "code",
   "execution_count": 11,
   "id": "f0a5b691",
   "metadata": {},
   "outputs": [],
   "source": [
    "def psi_5(g, gamma, tau, branch, t):\n",
    "    output = np.zeros(t*2+1, dtype=float)\n",
    "    \n",
    "    pm = 1 if branch == 1 else -1 \n",
    "\n",
    "    prefactor = pm / (4 * g * gamma)**3 \n",
    "    \n",
    "    for m in range(t): \n",
    "        comp1 = binom(-1.5, m) * (-1)**m\n",
    "        \n",
    "        for k in range(2 * m + 1):\n",
    "            comp2 = binom(2 * m, k) * (-1)**(k + m) * 4**(-m) * delta_function(t, 2 * k * tau - 2 * m * tau)\n",
    "            output += comp1 * comp2\n",
    "    \n",
    "    return prefactor * output"
   ]
  },
  {
   "cell_type": "markdown",
   "id": "37aca525",
   "metadata": {},
   "source": [
    "$$\n",
    "\\psi_6(c) = \\sum_{p=0}^{\\infty} \\left(\\pm\\frac{c}{2g}\\right)^p \\sum_{m=0}^{\\infty} \\binom{-p/2}{m} (-1)^m \\times \\sum_{k=0}^{2m} \\binom{2m}{k} (-1)^{k+m}4^{-m}\\delta(t + 2k\\tau_c - 2m\\tau_c)\n",
    "$$"
   ]
  },
  {
   "cell_type": "code",
   "execution_count": 12,
   "id": "776b29ae",
   "metadata": {},
   "outputs": [],
   "source": [
    "def psi_6(c, g, tau, branch, t):\n",
    "    output = np.zeros(t * 2 + 1, dtype=float)\n",
    "\n",
    "    pm = 1 if branch == 1 else -1\n",
    "\n",
    "    for p in range(t):\n",
    "        coef_p = (pm * c / (2 * g)) ** p\n",
    "\n",
    "        for m in range(t):\n",
    "            coef_pm = binomial(-p / 2, m) * (-1) ** m * coef_p\n",
    "\n",
    "            for k in range(2 * m + 1):\n",
    "                coef_k = binomial(2 * m, k) * (-1) ** (k + m) * 4 ** (-m)\n",
    "                output += float(coef_k * coef_pm) * delta_function(t, 2 * k * tau - 2 * m * tau)\n",
    "\n",
    "    return output"
   ]
  },
  {
   "cell_type": "markdown",
   "id": "d6e3592c",
   "metadata": {},
   "source": [
    "$$\n",
    "\\begin{align}\n",
    "c_1 &= \\frac{ \\sqrt{16\\gamma^2(g^2 + 1) + 1} \\mp 1}{8\\gamma^2} \\\\\n",
    "c_2 &= \\frac{-\\sqrt{16\\gamma^2(g^2 + 1) + 1} \\mp 1}{8\\gamma^2} \\\\\n",
    "\\end{align}\n",
    "$$"
   ]
  },
  {
   "cell_type": "code",
   "execution_count": 13,
   "id": "1d78ddac",
   "metadata": {},
   "outputs": [],
   "source": [
    "def compute_c1_c2(g, gamma, branch):\n",
    "    sqrt_term = np.sqrt(16 * (gamma**2) * (g**2 + 1) + 1)\n",
    "    \n",
    "    mp = -1 if branch == 1 else 1  \n",
    "    \n",
    "    c1 = ( sqrt_term + mp) / (8 * gamma**2)\n",
    "    c2 = (-sqrt_term + mp) / (8 * gamma**2)\n",
    "    \n",
    "    return c1, c2"
   ]
  },
  {
   "cell_type": "markdown",
   "id": "a1516185",
   "metadata": {},
   "source": [
    "$$\n",
    "\\psi_a = \\pm\\psi_2 * \\psi_3 \\pm (\\psi_1 \\mp \\psi_4) * \\psi_5 * \\psi_6(c_1) * \\psi_6(c_2)\n",
    "$$"
   ]
  },
  {
   "cell_type": "code",
   "execution_count": 14,
   "id": "544980d6",
   "metadata": {},
   "outputs": [],
   "source": [
    "def center_pad(signal, target_length):\n",
    "    current_length = len(signal)\n",
    "    pad_total = target_length - current_length\n",
    "    pad_half = pad_total // 2\n",
    "    return np.pad(signal, (pad_half, pad_half), mode='constant')\n",
    "\n",
    "def psi_a(psi1, psi2, psi3, psi4, psi5, psi_6_c1, psi_6_c2, branch):\n",
    "    sign_pm = 1 if branch == 1 else -1  # plus minus ±\n",
    "    sign_mp = -1 if branch == 1 else 1  # minus plus ∓\n",
    "    \n",
    "    term1 = sign_pm * np.convolve(psi2, psi3, mode='same')  \n",
    "\n",
    "    term2_inner = np.convolve(psi1 + sign_mp * psi4, psi5, mode='same')\n",
    "    term2_inner = np.convolve(term2_inner, psi_6_c1, mode='same')\n",
    "    term2_inner = np.convolve(term2_inner, psi_6_c2, mode='same')\n",
    "    \n",
    "    term2 = sign_pm * term2_inner \n",
    "\n",
    "    len1, len2 = len(term1), len(term2)\n",
    "\n",
    "    if len1 < len2:\n",
    "        term1 = center_pad(term1, len2)\n",
    "    elif len2 < len1:\n",
    "        term2 = center_pad(term2, len1)\n",
    "        \n",
    "    return term1 + term2"
   ]
  },
  {
   "cell_type": "code",
   "execution_count": 15,
   "id": "01cb0526",
   "metadata": {},
   "outputs": [],
   "source": [
    "def compute_filter_response_ipsi(g, r, tau_s, branch, t):\n",
    "    psi0 = psi_0(g, r, tau_s, branch, t)\n",
    "    psi1 = psi_1(g, tau_s, branch, t)\n",
    "    psi2 = psi_2(g, r, tau_s, branch, t)\n",
    "    psi3 = psi_3(g, tau_s, branch, t)\n",
    "    psi4 = psi_4(g, r, tau_s, t)\n",
    "    psi5 = psi_5(g, r, tau_s, branch, t)\n",
    "    c1, c2 = compute_c1_c2(g, r, branch)\n",
    "    psi6c1 = psi_6(c1, g, tau_s, branch, t)\n",
    "    psi6c2 = psi_6(c2, g, tau_s, branch, t)\n",
    "    psia = psi_a(psi1, psi2, psi3, psi4, psi5, psi6c1, psi6c2, branch)\n",
    "    return np.convolve((psi0 + r * psi1), psia, mode='full')\n",
    "\n",
    "def compute_filter_response_cont(g, r, tau_s, branch, t):\n",
    "    mp = -1 if branch == 1 else 1  \n",
    "    \n",
    "    psi0 = psi_0(g, r, tau_s, branch, t)\n",
    "    psi1 = psi_1(g, tau_s, branch, t)\n",
    "    psi2 = psi_2(g, r, tau_s, branch, t)\n",
    "    psi3 = psi_3(g, tau_s, branch, t)\n",
    "    psi4 = psi_4(g, r, tau_s, t)\n",
    "    psi5 = psi_5(g, r, tau_s, branch, t)\n",
    "    c1, c2 = compute_c1_c2(g, r, branch)\n",
    "    psi6c1 = psi_6(c1, g, tau_s, branch, t)\n",
    "    psi6c2 = psi_6(c2, g, tau_s, branch, t)\n",
    "    psia = psi_a(psi1, psi2, psi3, psi4, psi5, psi6c1, psi6c2, branch)\n",
    "\n",
    "    term1 = mp * psi0\n",
    "    term2 = np.convolve(r * g * delta_function(t, tau_s), psi1, mode='same')\n",
    "    return np.convolve(term1 + term2, psia)"
   ]
  },
  {
   "cell_type": "code",
   "execution_count": 16,
   "id": "e8d94b84-ddfe-416d-955c-28dba723bff3",
   "metadata": {},
   "outputs": [
    {
     "name": "stderr",
     "output_type": "stream",
     "text": [
      "C:\\Users\\kweiwent\\AppData\\Local\\Temp\\ipykernel_10200\\1991945966.py:5: MatplotlibDeprecationWarning: The 'use_line_collection' parameter of stem() was deprecated in Matplotlib 3.6 and will be removed two minor releases later. If any parameter follows 'use_line_collection', they should be passed as keyword, not positionally.\n",
      "  plt.stem(h_ipsi, 'b', use_line_collection=True)\n",
      "C:\\Users\\kweiwent\\AppData\\Local\\Temp\\ipykernel_10200\\1991945966.py:6: MatplotlibDeprecationWarning: The 'use_line_collection' parameter of stem() was deprecated in Matplotlib 3.6 and will be removed two minor releases later. If any parameter follows 'use_line_collection', they should be passed as keyword, not positionally.\n",
      "  plt.stem(h_cont, 'k', use_line_collection=True)\n"
     ]
    },
    {
     "data": {
      "image/png": "[encoded data removed]",
      "text/plain": [
       "<Figure size 640x480 with 1 Axes>"
      ]
     },
     "metadata": {},
     "output_type": "display_data"
    }
   ],
   "source": [
    "h_ipsi = compute_filter_response_ipsi(g, r, tau_s, 1, 100)\n",
    "h_cont = compute_filter_response_cont(g, r, tau_s, 1, 100)\n",
    "\n",
    "center = (len(h_ipsi)-1) // 2\n",
    "plt.stem(h_ipsi, 'b', use_line_collection=True)\n",
    "plt.stem(h_cont, 'k', use_line_collection=True)\n",
    "plt.ylim(-2, 2)\n",
    "plt.show()"
   ]
  },
  {
   "cell_type": "code",
   "execution_count": 18,
   "id": "ee1af007-164c-40d7-ba8d-f9884d74b608",
   "metadata": {},
   "outputs": [
    {
     "ename": "NameError",
     "evalue": "name 'psi1' is not defined",
     "output_type": "error",
     "traceback": [
      "\u001b[1;31m---------------------------------------------------------------------------\u001b[0m",
      "\u001b[1;31mNameError\u001b[0m                                 Traceback (most recent call last)",
      "Cell \u001b[1;32mIn[18], line 1\u001b[0m\n\u001b[1;32m----> 1\u001b[0m plt\u001b[38;5;241m.\u001b[39mplot(\u001b[43mpsi1\u001b[49m, label\u001b[38;5;241m=\u001b[39m\u001b[38;5;124m'\u001b[39m\u001b[38;5;124mpsi1\u001b[39m\u001b[38;5;124m'\u001b[39m)\n\u001b[0;32m      2\u001b[0m plt\u001b[38;5;241m.\u001b[39mplot(psi2, label\u001b[38;5;241m=\u001b[39m\u001b[38;5;124m'\u001b[39m\u001b[38;5;124mpsi2\u001b[39m\u001b[38;5;124m'\u001b[39m)\n\u001b[0;32m      3\u001b[0m plt\u001b[38;5;241m.\u001b[39mplot(psi3, label\u001b[38;5;241m=\u001b[39m\u001b[38;5;124m'\u001b[39m\u001b[38;5;124mpsi3\u001b[39m\u001b[38;5;124m'\u001b[39m)\n",
      "\u001b[1;31mNameError\u001b[0m: name 'psi1' is not defined"
     ]
    }
   ],
   "source": [
    "plt.plot(psi1, label='psi1')\n",
    "plt.plot(psi2, label='psi2')\n",
    "plt.plot(psi3, label='psi3')\n",
    "plt.plot(psi4, label='psi4')\n",
    "plt.plot(psi5, label='psi5')\n",
    "plt.plot(psi6c1, label='psi6c1')\n",
    "plt.plot(psi6c2, label='psi6c2')\n",
    "plt.legend()"
   ]
  },
  {
   "cell_type": "code",
   "execution_count": 1,
   "id": "09bc1748-f74a-4759-adfb-4ca3e5d95fa9",
   "metadata": {},
   "outputs": [],
   "source": [
    "from sympy import symbols, cos, sqrt, init_printing, init_session\n",
    "\n",
    "# define symbol\n",
    "z, g, omega, tau_c, gamma = symbols('z g omega tau_c gamma')\n",
    "\n",
    "# define Beta_I & Beta_II\n",
    "beta_I = -g**2 + 2*g*cos(omega*tau_c) + (sqrt(g**2 - 2*g*cos(omega*tau_c) + 1) / gamma) - 1\n",
    "beta_II = -g**2 - 2*g*cos(omega*tau_c) + (sqrt(g**2 + 2*g*cos(omega*tau_c) + 1) / gamma) - 1\n",
    "\n",
    "# define H_LL & H_LR representation\n",
    "def compute_H_LL(beta):\n",
    "    return (z**2 * g**2 - z * (beta + 1)) / (z**2 * g**2 + g**2 - z * ((g**2 + beta)**2 + 2 * beta + 1))\n",
    "\n",
    "def compute_H_LR(beta):\n",
    "    return (z * (g * z**(-1/2) - g * (g**2 + beta) * z**(1/2))) / (z**2 * g**2 + g**2 - z * ((g**2 + beta)**2 + 2 * beta + 1))\n",
    "\n",
    "# Substitute Beta_I & Beta_II\n",
    "H_LL_I = compute_H_LL(beta_I).simplify()\n",
    "H_LR_I = compute_H_LR(beta_I).simplify()\n",
    "H_LL_II = compute_H_LL(beta_II).simplify()\n",
    "H_LR_II = compute_H_LR(beta_II).simplify()\n",
    "\n",
    "# H_LL_I, H_LR_I, H_LL_II, H_LR_II"
   ]
  },
  {
   "cell_type": "code",
   "execution_count": 2,
   "id": "47b59521-9365-4699-90b6-d9b1b19a929a",
   "metadata": {},
   "outputs": [
    {
     "data": {
      "text/latex": [
       "$\\displaystyle \\frac{\\gamma z \\left(g^{2} \\gamma z - g \\gamma \\left(- g + 2 \\cos{\\left(\\omega \\tau_{c} \\right)}\\right) - \\sqrt{g^{2} - 2 g \\cos{\\left(\\omega \\tau_{c} \\right)} + 1}\\right)}{g^{2} \\gamma^{2} \\left(z^{2} + 1\\right) - z \\left(- 4 g^{2} \\gamma^{2} \\sin^{2}{\\left(\\omega \\tau_{c} \\right)} + 2 g^{2} \\gamma^{2} + g^{2} + 4 g \\gamma \\sqrt{g^{2} - 2 g \\cos{\\left(\\omega \\tau_{c} \\right)} + 1} \\cos{\\left(\\omega \\tau_{c} \\right)} - 2 g \\cos{\\left(\\omega \\tau_{c} \\right)} + 1\\right)}$"
      ],
      "text/plain": [
       "gamma*z*(g**2*gamma*z - g*gamma*(-g + 2*cos(omega*tau_c)) - sqrt(g**2 - 2*g*cos(omega*tau_c) + 1))/(g**2*gamma**2*(z**2 + 1) - z*(-4*g**2*gamma**2*sin(omega*tau_c)**2 + 2*g**2*gamma**2 + g**2 + 4*g*gamma*sqrt(g**2 - 2*g*cos(omega*tau_c) + 1)*cos(omega*tau_c) - 2*g*cos(omega*tau_c) + 1))"
      ]
     },
     "metadata": {},
     "output_type": "display_data"
    }
   ],
   "source": [
    "from IPython.display import display, Latex\n",
    "from sympy import *\n",
    "\n",
    "# x = symbols('x')\n",
    "# display(x)\n",
    "\n",
    "display(H_LL_I)\n",
    "\n",
    "# int_x = Integral(cos(x)*exp(x), x)\n",
    "# result = \"$${} = {}$$\".format(latex(int_x), latex(int_x.doit()))\n",
    "# display(Latex(result))\n",
    "\n",
    "# derv_x = Derivative(cos(x)*exp(x), x)\n",
    "# result = \"$${} = {}$$\".format(latex(derv_x), latex(derv_x.doit()))\n",
    "# display(Latex(result))"
   ]
  },
  {
   "cell_type": "code",
   "execution_count": 22,
   "id": "5d760895-91f0-4992-a9fa-cca6b39ab708",
   "metadata": {},
   "outputs": [
    {
     "name": "stdout",
     "output_type": "stream",
     "text": [
      "257\n",
      "385\n",
      "513\n"
     ]
    }
   ],
   "source": [
    "import numpy as np\n",
    "\n",
    "a = np.zeros(129)\n",
    "b = np.zeros(129)\n",
    "c = np.zeros(129)\n",
    "d = np.zeros(129)\n",
    "\n",
    "t = np.convolve(a, b, mode='full')\n",
    "print(len(t))\n",
    "\n",
    "t = np.convolve(t, c, mode='full')\n",
    "print(len(t))\n",
    "\n",
    "t = np.convolve(t, d, mode='full')\n",
    "print(len(t))"
   ]
  },
  {
   "cell_type": "code",
   "execution_count": 23,
   "id": "6db22fd9-933f-4647-96a1-b1a7688788db",
   "metadata": {},
   "outputs": [
    {
     "data": {
      "text/plain": [
       "513"
      ]
     },
     "execution_count": 23,
     "metadata": {},
     "output_type": "execute_result"
    }
   ],
   "source": [
    "4*129-3"
   ]
  },
  {
   "cell_type": "code",
   "execution_count": 25,
   "id": "70e0b2f7-0ca2-4bf7-9a8c-d383f5b39c15",
   "metadata": {},
   "outputs": [
    {
     "ename": "TypeError",
     "evalue": "'float' object cannot be interpreted as an integer",
     "output_type": "error",
     "traceback": [
      "\u001b[1;31m---------------------------------------------------------------------------\u001b[0m",
      "\u001b[1;31mTypeError\u001b[0m                                 Traceback (most recent call last)",
      "Cell \u001b[1;32mIn[25], line 5\u001b[0m\n\u001b[0;32m      3\u001b[0m n \u001b[38;5;241m=\u001b[39m\u001b[38;5;241m0.5\u001b[39m\n\u001b[0;32m      4\u001b[0m k \u001b[38;5;241m=\u001b[39m \u001b[38;5;241m1\u001b[39m\n\u001b[1;32m----> 5\u001b[0m \u001b[43mmath\u001b[49m\u001b[38;5;241;43m.\u001b[39;49m\u001b[43mcomb\u001b[49m\u001b[43m(\u001b[49m\u001b[43mn\u001b[49m\u001b[43m,\u001b[49m\u001b[43m \u001b[49m\u001b[43mk\u001b[49m\u001b[43m)\u001b[49m\n",
      "\u001b[1;31mTypeError\u001b[0m: 'float' object cannot be interpreted as an integer"
     ]
    }
   ],
   "source": [
    "import math\n",
    "\n",
    "n =0.5\n",
    "k = 1\n",
    "math.comb(n, k)"
   ]
  },
  {
   "cell_type": "code",
   "execution_count": null,
   "id": "a6d402b6-6993-4b89-9777-ad8717ea6ae9",
   "metadata": {},
   "outputs": [],
   "source": []
  }
 ],
 "metadata": {
  "kernelspec": {
   "display_name": "Python 3 (ipykernel)",
   "language": "python",
   "name": "python3"
  },
  "language_info": {
   "codemirror_mode": {
    "name": "ipython",
    "version": 3
   },
   "file_extension": ".py",
   "mimetype": "text/x-python",
   "name": "python",
   "nbconvert_exporter": "python",
   "pygments_lexer": "ipython3",
   "version": "3.8.1rc1"
  }
 },
 "nbformat": 4,
 "nbformat_minor": 5
}
