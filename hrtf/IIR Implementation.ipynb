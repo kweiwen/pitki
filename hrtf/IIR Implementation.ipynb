{
 "cells": [
  {
   "cell_type": "markdown",
   "id": "75640134",
   "metadata": {},
   "source": [
    "- From BACCH paper: In this form, $z$ is defined as $z = e^{i2\\omega\\tau_c}$, where $\\tau_c$ is a time delay expressed in microseconds (µs), \n",
    "- This represents a complex exponential corresponding to a $\\tau_c$ delay in frequency domain. \n",
    "- This is a symbolic algebraic representation used for analytical manipulation in the paper."
   ]
  },
  {
   "cell_type": "markdown",
   "id": "9d1d1f09",
   "metadata": {},
   "source": [
    "$$\n",
    "\\begin{align}\n",
    "H_\\rm{ipsi} \n",
    "&= \\frac{z^2g^2-z(\\beta+1)}{z^2g^2+g^2-z[(g^2+\\beta)^2+2\\beta+1]} \\\\\n",
    "&= \\frac{g^2-(\\beta+1)z^{-1}}{g^2-[(g^2+\\beta)^2+2\\beta+1]z^{-1}+g^2z^{-2}}\\\\\n",
    "\\end{align}\n",
    "$$"
   ]
  },
  {
   "cell_type": "markdown",
   "id": "cb411612",
   "metadata": {},
   "source": [
    "$$\n",
    "\\begin{align}\n",
    "H_\\rm{cont} \n",
    "&= \\frac{z[gz^{-0.5}-g(g^2+\\beta)z^{0.5}]}{z^2g^2+g^2-z[(g^2+\\beta)^2+2\\beta+1]} \\\\\n",
    "&= \\frac{z^{-1}[gz^{-0.5}-g(g^2+\\beta)z^{0.5}]}{g^2-[(g^2+\\beta)^2+2\\beta+1]z^{-1}+g^2z^{-2}}\\\\\n",
    "&= \\frac{[gz^{-1.5}-g(g^2+\\beta)z^{-0.5}]}{g^2-[(g^2+\\beta)^2+2\\beta+1]z^{-1}+g^2z^{-2}}\\\\\n",
    "&= \\frac{-g(g^2+\\beta)z^{-0.5}+gz^{-1.5}}{g^2-[(g^2+\\beta)^2+2\\beta+1]z^{-1}+g^2z^{-2}}\\\\\n",
    "\\end{align}\n",
    "$$"
   ]
  },
  {
   "cell_type": "markdown",
   "id": "8dfd8042",
   "metadata": {},
   "source": [
    "- Now: reformulated using $\\tau$ as number of delay samples, and expressing each term using $z^{-n}$, for actual DSP implementation.\n",
    "- Here, $z^{-1}$ corresponds to one sample delay, so $z^{-2\\tau}$ = delay by $2\\tau$ samples (because BACCH uses a $2\\tau_c$ delay as base unit)"
   ]
  },
  {
   "cell_type": "markdown",
   "id": "d5b5dac9",
   "metadata": {},
   "source": [
    "$$\n",
    "\\begin{align}\n",
    "H_\\rm{ipsi} \n",
    "&= \\frac{g^2-(\\beta+1)z^{-2\\tau}}{g^2-[(g^2+\\beta)^2+2\\beta+1]z^{-2\\tau}+g^2z^{-4\\tau}}\\\\\n",
    "\\end{align}\n",
    "$$"
   ]
  },
  {
   "cell_type": "markdown",
   "id": "2fe951c5",
   "metadata": {},
   "source": [
    "$$\n",
    "\\begin{align}\n",
    "H_\\rm{cont} \n",
    "&= \\frac{-g(g^2+\\beta)z^{-3\\tau}+gz^{-9\\tau}}{g^2-[(g^2+\\beta)^2+2\\beta+1]z^{-2\\tau}+g^2z^{-4\\tau}}\\\\\n",
    "\\end{align}\n",
    "$$"
   ]
  },
  {
   "cell_type": "code",
   "execution_count": null,
   "id": "1fb91cae",
   "metadata": {},
   "outputs": [],
   "source": []
  }
 ],
 "metadata": {
  "kernelspec": {
   "display_name": "Python 3",
   "language": "python",
   "name": "python3"
  },
  "language_info": {
   "codemirror_mode": {
    "name": "ipython",
    "version": 3
   },
   "file_extension": ".py",
   "mimetype": "text/x-python",
   "name": "python",
   "nbconvert_exporter": "python",
   "pygments_lexer": "ipython3",
   "version": "3.10.2"
  }
 },
 "nbformat": 4,
 "nbformat_minor": 5
}
