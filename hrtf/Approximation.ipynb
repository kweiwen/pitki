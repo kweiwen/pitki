{
 "cells": [
  {
   "cell_type": "code",
   "execution_count": 1,
   "id": "98dc1733",
   "metadata": {},
   "outputs": [],
   "source": [
    "from sympy import symbols, cos, sqrt, Matrix, print_latex, simplify, fraction, latex\n",
    "from IPython.display import display, Markdown"
   ]
  },
  {
   "cell_type": "code",
   "execution_count": 2,
   "id": "f3d1e77f",
   "metadata": {},
   "outputs": [
    {
     "name": "stdout",
     "output_type": "stream",
     "text": [
      "0\n"
     ]
    }
   ],
   "source": [
    "g, h1, h2, beta, z, tau, N, D, n, d = symbols('g h1 h2 beta z tau N D n d')\n",
    "\n",
    "eq1 = g*g*h2*h2-((g*g*h1*h2+beta)**2+2*beta+1)*z**(-2*tau)+g*g*h1*h1*z**(-4*tau)\n",
    "eq2 = (1+g*g*h1*h2+beta)**2-(g*h1*z**(-tau)+g*h2*z**(tau))**2\n",
    "eq3 = -eq2 / z**(2*tau)\n",
    "\n",
    "diff = eq1-eq3\n",
    "print(diff.simplify())"
   ]
  },
  {
   "cell_type": "code",
   "execution_count": 3,
   "id": "88beac0d",
   "metadata": {},
   "outputs": [
    {
     "name": "stdout",
     "output_type": "stream",
     "text": [
      "0\n"
     ]
    }
   ],
   "source": [
    "eq4 = (1+g*g*h1*h2+beta-g*h1*z**(-tau)-g*h2*z**(tau))*(1+g*g*h1*h2+beta+g*h1*z**(-tau)+g*h2*z**(tau))\n",
    "eq5 = -eq4 / z**(2*tau)\n",
    "\n",
    "diff = eq1-eq5\n",
    "print(diff.simplify())"
   ]
  },
  {
   "cell_type": "code",
   "execution_count": 4,
   "id": "eb7c17b1",
   "metadata": {},
   "outputs": [
    {
     "data": {
      "text/markdown": [
       "$$g^{2} h_{1}^{2} z^{- 4 \\tau} + g^{2} h_{2}^{2} - z^{- 2 \\tau} \\left(2 \\beta + \\left(\\beta + g^{2} h_{1} h_{2}\\right)^{2} + 1\\right)$$"
      ],
      "text/plain": [
       "<IPython.core.display.Markdown object>"
      ]
     },
     "metadata": {},
     "output_type": "display_data"
    },
    {
     "data": {
      "text/markdown": [
       "$$\\left(\\beta + g^{2} h_{1} h_{2} - g h_{1} z^{- \\tau} - g h_{2} z^{\\tau} + 1\\right) \\left(\\beta + g^{2} h_{1} h_{2} + g h_{1} z^{- \\tau} + g h_{2} z^{\\tau} + 1\\right)$$"
      ],
      "text/plain": [
       "<IPython.core.display.Markdown object>"
      ]
     },
     "metadata": {},
     "output_type": "display_data"
    },
    {
     "data": {
      "text/markdown": [
       "$$- z^{- 2 \\tau} \\left(\\beta + g^{2} h_{1} h_{2} - g h_{1} z^{- \\tau} - g h_{2} z^{\\tau} + 1\\right) \\left(\\beta + g^{2} h_{1} h_{2} + g h_{1} z^{- \\tau} + g h_{2} z^{\\tau} + 1\\right)$$"
      ],
      "text/plain": [
       "<IPython.core.display.Markdown object>"
      ]
     },
     "metadata": {},
     "output_type": "display_data"
    }
   ],
   "source": [
    "display(Markdown(rf\"$${latex(eq1)}$$\"))\n",
    "display(Markdown(rf\"$${latex(eq4)}$$\"))\n",
    "display(Markdown(rf\"$${latex(eq5)}$$\"))"
   ]
  },
  {
   "cell_type": "code",
   "execution_count": 5,
   "id": "92b1377d",
   "metadata": {},
   "outputs": [
    {
     "data": {
      "text/markdown": [
       "$$\\operatorname{Poly}{\\left( d^{2}g^{2}N^{2}z^{- 4 \\tau} - d^{2}D^{2}\\beta^{2}z^{- 2 \\tau} - 2 d^{2}D^{2}\\betaz^{- 2 \\tau} - d^{2}D^{2}z^{- 2 \\tau} - 2 dg^{2}nDN\\betaz^{- 2 \\tau} - g^{4}n^{2}N^{2}z^{- 2 \\tau} + g^{2}n^{2}D^{2}, d, g, n, D, N, \\beta, z^{- \\tau}, domain=\\mathbb{Z} \\right)}$$"
      ],
      "text/plain": [
       "<IPython.core.display.Markdown object>"
      ]
     },
     "metadata": {},
     "output_type": "display_data"
    }
   ],
   "source": [
    "term1 = -(D*d+g*g*N*n+beta*D*d) * z**(-tau) + (g*N*d) * z**(-2*tau) + (g*D*n)\n",
    "term2 =  (D*d+g*g*N*n+beta*D*d) * z**(-tau) + (g*N*d) * z**(-2*tau) + (g*D*n)\n",
    "term3 = term1*term2\n",
    "term3 = term3.as_poly()\n",
    "display(Markdown(rf\"$${latex(term3)}$$\"))"
   ]
  },
  {
   "cell_type": "code",
   "execution_count": null,
   "id": "6a770b1e",
   "metadata": {},
   "outputs": [],
   "source": []
  }
 ],
 "metadata": {
  "kernelspec": {
   "display_name": "Python 3",
   "language": "python",
   "name": "python3"
  },
  "language_info": {
   "codemirror_mode": {
    "name": "ipython",
    "version": 3
   },
   "file_extension": ".py",
   "mimetype": "text/x-python",
   "name": "python",
   "nbconvert_exporter": "python",
   "pygments_lexer": "ipython3",
   "version": "3.10.2"
  }
 },
 "nbformat": 4,
 "nbformat_minor": 5
}
