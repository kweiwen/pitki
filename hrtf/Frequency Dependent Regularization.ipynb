{
 "cells": [
  {
   "cell_type": "code",
   "execution_count": 1,
   "id": "9cefa66d-5ba4-4956-ba22-0fbd45bc6d85",
   "metadata": {},
   "outputs": [],
   "source": [
    "from sympy import symbols, cos, sqrt, Matrix, print_latex, simplify, fraction, latex\n",
    "from IPython.display import display, Markdown"
   ]
  },
  {
   "cell_type": "code",
   "execution_count": 2,
   "id": "6a91465a-39be-49b4-80f1-a86e7debf38e",
   "metadata": {},
   "outputs": [],
   "source": [
    "i, e, z, g, omega, tau_c, beta, gamma, pm, mp, x = symbols('i e z g omega tau_c beta gamma ± ∓ x')"
   ]
  },
  {
   "cell_type": "code",
   "execution_count": 3,
   "id": "4bd89717-3fac-4de8-90f1-cdada966d0cd",
   "metadata": {},
   "outputs": [],
   "source": [
    "H_ipsi = (z**2 * g**2 - z * (beta + 1)) / (z**2 * g**2 + g**2 - z * ((g**2 + beta)**2 + 2 * beta + 1))\n",
    "H_cont = (z * (g * z**(-1/2) - g * z**(1/2) * (g**2 + beta) )) / (z**2 * g**2 + g**2 - z * ((g**2 + beta)**2 + 2 * beta + 1))"
   ]
  },
  {
   "cell_type": "code",
   "execution_count": 4,
   "id": "30ea89bf-b7fb-457f-9339-d5a34995f7c1",
   "metadata": {},
   "outputs": [
    {
     "data": {
      "text/markdown": [
       "$$H_{\\text{ipsi}} = \\frac{g^{2} z^{2} - z \\left(\\beta + 1\\right)}{g^{2} z^{2} + g^{2} - z \\left(2 \\beta + \\left(\\beta + g^{2}\\right)^{2} + 1\\right)}$$"
      ],
      "text/plain": [
       "<IPython.core.display.Markdown object>"
      ]
     },
     "metadata": {},
     "output_type": "display_data"
    },
    {
     "data": {
      "text/markdown": [
       "$$H_{\\text{cont}} = \\frac{z \\left(\\frac{g}{z^{0.5}} - g z^{0.5} \\left(\\beta + g^{2}\\right)\\right)}{g^{2} z^{2} + g^{2} - z \\left(2 \\beta + \\left(\\beta + g^{2}\\right)^{2} + 1\\right)}$$"
      ],
      "text/plain": [
       "<IPython.core.display.Markdown object>"
      ]
     },
     "metadata": {},
     "output_type": "display_data"
    }
   ],
   "source": [
    "# This is the original regularization equation from the paper\n",
    "display(Markdown(rf\"$$H_{{\\text{{ipsi}}}} = {latex(H_ipsi)}$$\"))\n",
    "display(Markdown(rf\"$$H_{{\\text{{cont}}}} = {latex(H_cont)}$$\"))"
   ]
  },
  {
   "cell_type": "code",
   "execution_count": 5,
   "id": "8a31e5a2-58c6-438e-8539-8fe6d1464ca8",
   "metadata": {},
   "outputs": [],
   "source": [
    "# Combine Beta_I & Beta_II\n",
    "beta1 = -g**2 + x + (sqrt(g**2 - x + 1) / gamma) - 1\n",
    "beta2 = -g**2 - x + (sqrt(g**2 + x + 1) / gamma) - 1\n",
    "\n",
    "beta_I_II = -g**2 + (pm*x) - 1 + (sqrt(g**2 - pm * x + 1) / gamma)"
   ]
  },
  {
   "cell_type": "code",
   "execution_count": 6,
   "id": "7f5446cb-9ef7-43fa-9940-347f08c797c5",
   "metadata": {},
   "outputs": [
    {
     "data": {
      "text/markdown": [
       "$$\\beta_1 = - g^{2} + x - 1 + \\frac{\\sqrt{g^{2} - x + 1}}{\\gamma}$$"
      ],
      "text/plain": [
       "<IPython.core.display.Markdown object>"
      ]
     },
     "metadata": {},
     "output_type": "display_data"
    },
    {
     "data": {
      "text/markdown": [
       "$$\\beta_2 = - g^{2} - x - 1 + \\frac{\\sqrt{g^{2} + x + 1}}{\\gamma}$$"
      ],
      "text/plain": [
       "<IPython.core.display.Markdown object>"
      ]
     },
     "metadata": {},
     "output_type": "display_data"
    }
   ],
   "source": [
    "# In Frequency Dependent Regularization approach, beta could be denoted as beta1 and beta2 \n",
    "display(Markdown(rf\"$$\\beta_1 = {latex(beta1)}$$\"))\n",
    "display(Markdown(rf\"$$\\beta_2 = {latex(beta2)}$$\"))"
   ]
  },
  {
   "cell_type": "code",
   "execution_count": 7,
   "id": "3bb6a660-0882-452b-a9a3-250afa1a6b4e",
   "metadata": {},
   "outputs": [
    {
     "data": {
      "text/markdown": [
       "$$H_{\\text{ipsi}} = \\frac{\\gamma z \\left(g^{2} \\gamma z - \\gamma \\left(- g^{2} + x ±\\right) - \\sqrt{g^{2} - x ± + 1}\\right)}{g^{2} \\gamma^{2} \\left(z^{2} + 1\\right) - z \\left(\\gamma^{2} \\left(- 2 g^{2} + 2 x ± - 1\\right) + 2 \\gamma \\sqrt{g^{2} - x ± + 1} + \\left(\\gamma \\left(x ± - 1\\right) + \\sqrt{g^{2} - x ± + 1}\\right)^{2}\\right)}$$"
      ],
      "text/plain": [
       "<IPython.core.display.Markdown object>"
      ]
     },
     "metadata": {},
     "output_type": "display_data"
    },
    {
     "data": {
      "text/markdown": [
       "$$H_{\\text{cont}} = \\frac{g \\gamma z^{0.5} \\left(\\gamma - z^{1.0} \\left(\\gamma \\left(x ± - 1\\right) + \\sqrt{g^{2} - x ± + 1}\\right)\\right)}{g^{2} \\gamma^{2} \\left(z^{2} + 1\\right) - z \\left(\\gamma^{2} \\left(- 2 g^{2} + 2 x ± - 1\\right) + 2 \\gamma \\sqrt{g^{2} - x ± + 1} + \\left(\\gamma \\left(x ± - 1\\right) + \\sqrt{g^{2} - x ± + 1}\\right)^{2}\\right)}$$"
      ],
      "text/plain": [
       "<IPython.core.display.Markdown object>"
      ]
     },
     "metadata": {},
     "output_type": "display_data"
    }
   ],
   "source": [
    "# Substitute beta1 and beta2 into the original regularization equation\n",
    "H_ipsi_beta_I_II = H_ipsi.subs(beta, beta_I_II).simplify()\n",
    "H_cont_beta_I_II = H_cont.subs(beta, beta_I_II).simplify()\n",
    "\n",
    "display(Markdown(rf\"$$H_{{\\text{{ipsi}}}} = {latex(H_ipsi_beta_I_II)}$$\"))\n",
    "display(Markdown(rf\"$$H_{{\\text{{cont}}}} = {latex(H_cont_beta_I_II)}$$\"))"
   ]
  },
  {
   "cell_type": "markdown",
   "id": "b04d00e7-b40a-449d-8923-75f92e8c697e",
   "metadata": {},
   "source": [
    "## This is the derivation of the ipsilateral filter (manually)\n",
    "\n",
    "Divide $z$ from both numerator and denominator in $H_\\rm{ipsi}$.\n",
    "\n",
    "$\n",
    "\\begin{align}\n",
    "\\rm{Num} \n",
    "&= \\gamma ^ 2 (g^2 z + g^2 \\mp x) - \\gamma \\sqrt{g^2 \\mp x+1} \\\\\n",
    "&= -(\\gamma ^ 2 (-g^2 z - g^2 \\pm x ) + \\gamma \\sqrt{g^2 \\mp x+1}) \\\\\n",
    "\\rm{Den}\n",
    "&= g^2 \\gamma^2(z+1/z) - (\\gamma^2(-2g^2 \\pm 2x -1) + 2 \\gamma\\sqrt{g^2 \\mp x+1} + (\\gamma(\\pm x-1) + \\sqrt{g^2 \\mp x + 1})^2) \\\\\n",
    "&= g^2 \\gamma^2(z+1/z) - (\\gamma^2(-2g^2 \\pm 2x -1) + 2 \\gamma\\sqrt{g^2 \\mp x+1} + \\gamma^2(x^2 \\mp 2x + 1) + 2\\gamma(\\pm x - 1)\\sqrt{g^2 \\mp x+1} + (g^2 \\mp x + 1)) \\\\\n",
    "&= g^2 \\gamma^2(z+1/z) - (-2\\gamma^2g^2 + 2 \\gamma\\sqrt{g^2 \\mp x+1} + \\gamma^2x^2 + 2\\gamma(\\pm x - 1)\\sqrt{g^2 \\mp x+1} + (g^2 \\mp x + 1)) \\\\\n",
    "&= g^2 \\gamma^2(z+1/z) - (-2\\gamma^2g^2 + \\gamma^2x^2 \\pm 2\\gamma x\\sqrt{g^2 \\mp x+1}  + (g^2 \\mp x + 1)) \\\\\n",
    "&= g^2 \\gamma^2(z+1/z) + 2\\gamma^2g^2 - \\gamma^2x^2 - ( \\pm 2\\gamma x\\sqrt{g^2 \\mp x+1}  + (g^2 \\mp x + 1)) \\\\\n",
    "&= g^2 \\gamma^2(z+1/z) + 2\\gamma^2g^2 - \\gamma^2(2g\\cos(\\omega\\tau_c))^2 - ( \\pm 2\\gamma x\\sqrt{g^2 \\mp x+1}  + (g^2 \\mp x + 1)) \\\\\n",
    "&= g^2 \\gamma^2(e^{2i\\omega\\tau_c}+1/e^{2i\\omega\\tau_c}) + 2\\gamma^2g^2 - \\gamma^2(2g\\cos(\\omega\\tau_c))^2 - ( \\pm 2\\gamma x\\sqrt{g^2 \\mp x+1}  + (g^2 \\mp x + 1)) \\\\\n",
    "&= g^2 \\gamma^2(2\\cos(2\\omega\\tau_c)) + 2\\gamma^2g^2 - \\gamma^2(2g\\cos(\\omega\\tau_c))^2 - ( \\pm 2\\gamma x\\sqrt{g^2 \\mp x+1}  + (g^2 \\mp x + 1)) \\\\\n",
    "&= g^2 \\gamma^2(4(\\cos(\\omega\\tau_c)^2-2)) + 2\\gamma^2g^2 - \\gamma^2(2g\\cos(\\omega\\tau_c))^2 - ( \\pm 2\\gamma x\\sqrt{g^2 \\mp x+1}  + (g^2 \\mp x + 1)) \\\\\n",
    "&= g^2 \\gamma^2(4(\\cos(\\omega\\tau_c)^2-2)) + 2\\gamma^2g^2 - 4\\gamma^2 g^2 \\cos(\\omega\\tau_c)^2 - ( \\pm 2\\gamma x\\sqrt{g^2 \\mp x+1}  + (g^2 \\mp x + 1)) \\\\\n",
    "&= - ( \\pm 2\\gamma x\\sqrt{g^2 \\mp x+1}  + (g^2 \\mp x + 1)) \\\\\n",
    "\\end{align}\n",
    "$\n",
    "\n",
    "$\n",
    "\\begin{align}\n",
    "H_\\text{ipsi} \n",
    "&= \\frac{\\text{Num}}{\\text{Den}} \\\\\n",
    "&= \\frac{\\gamma ^ 2 (\\pm x -g^2 z - g^2 )+ \\gamma \\sqrt{g^2 \\mp x+1}}{\\pm 2\\gamma x\\sqrt{g^2 \\mp x+1} + (g^2 \\mp x + 1)} \\\\\n",
    "&= \\frac{\\gamma ^ 2 (\\pm x -g^2 (z + 1) )+ \\gamma \\sqrt{g^2 \\mp x+1}}{g^2 \\pm x(2\\gamma \\sqrt{g^2 \\mp x+1} - 1) + 1} \\\\\n",
    "&= \\frac{\\gamma ^ 2 (\\pm x -g^2 (e^{2i\\omega\\tau_c} + 1)) + \\gamma \\sqrt{g^2 \\mp x+1}}{g^2 \\pm x(2\\gamma \\sqrt{g^2 \\mp x+1} - 1) + 1} \\\\\n",
    "\\end{align}\n",
    "$"
   ]
  },
  {
   "cell_type": "markdown",
   "id": "aea8fddd-3f36-4bd6-bcb9-7a1c68e18cb5",
   "metadata": {},
   "source": [
    "## This is the derivation of the contralateral filter (manually)\n",
    "\n",
    "The denomniator between $H_\\rm{ipsi}$ and $H_\\rm{cont}$ is the same. So we only need to derive the numerator in the contralateral filter and divide $z$ from the numerator.\n",
    "\n",
    "$\n",
    "\\begin{align}\n",
    "\\rm{Num} &= \\frac{g \\gamma z^{1/2}(\\gamma-z(\\gamma(\\pm x -1) + \\sqrt{g^2 \\mp x + 1}))}{z} \\\\\n",
    "&= g \\gamma z^{-1/2}(\\gamma \\mp \\gamma z x + \\gamma z - z \\sqrt{g^2 \\mp x + 1}) \\\\\n",
    "&= g \\gamma^2 z^{-1/2} \\mp g \\gamma^2 z^{1/2} x + g \\gamma^2 z^{1/2} - g \\gamma z^{1/2} \\sqrt{g^2 \\mp x + 1} \\\\\n",
    "&= \\mp g \\gamma^2 z^{1/2} x + g \\gamma^2(z^{1/2}+z^{-1/2}) - g \\gamma z^{1/2} \\sqrt{g^2 \\mp x + 1} \\\\\n",
    "&= \\mp g \\gamma^2 e^{i\\omega\\tau_c} x + g \\gamma^2(e^{i\\omega\\tau_c}+e^{-i\\omega\\tau_c}) - g \\gamma e^{i\\omega\\tau_c} \\sqrt{g^2 \\mp x + 1} \\\\\n",
    "&= \\mp g \\gamma^2 e^{i\\omega\\tau_c} x + g \\gamma^2(e^{i\\omega\\tau_c}+e^{-i\\omega\\tau_c}) - g \\gamma e^{i\\omega\\tau_c} \\sqrt{g^2 \\mp x + 1} \\\\\n",
    "&= \\mp g \\gamma^2 e^{i\\omega\\tau_c} x + g \\gamma^2(2\\cos(\\omega\\tau_c)) - g \\gamma e^{i\\omega\\tau_c} \\sqrt{g^2 \\mp x + 1} \\\\\n",
    "&= \\mp g \\gamma^2 e^{i\\omega\\tau_c} x + x \\gamma^2 - g \\gamma e^{i\\omega\\tau_c} \\sqrt{g^2 \\mp x + 1} \\\\\n",
    "&= \\mp g \\gamma^2 (\\cos(\\omega\\tau_c)+i\\sin(\\omega\\tau_c)) 2 g \\cos(\\omega\\tau_c) + x \\gamma^2 - g \\gamma e^{i\\omega\\tau_c} \\sqrt{g^2 \\mp x + 1} \\\\\n",
    "&= \\mp 2 g^2 \\gamma^2 (\\cos(\\omega\\tau_c)^2+i\\sin(\\omega\\tau_c)\\cos(\\omega\\tau_c))  + x \\gamma^2 - g \\gamma e^{i\\omega\\tau_c} \\sqrt{g^2 \\mp x + 1} \\\\\n",
    "&= \\mp 2 g^2 \\gamma^2 ((\\cos(2\\omega\\tau_c)+1)/2+i\\sin(2\\omega\\tau_c)/2)  + x \\gamma^2 - g \\gamma e^{i\\omega\\tau_c} \\sqrt{g^2 \\mp x + 1} \\\\\n",
    "&= \\mp g^2 \\gamma^2 (\\cos(2\\omega\\tau_c)+i\\sin(2\\omega\\tau_c)+1)  + x \\gamma^2 - g \\gamma e^{i\\omega\\tau_c} \\sqrt{g^2 \\mp x + 1} \\\\\n",
    "&= \\mp g^2 \\gamma^2 (e^{2i\\omega\\tau_c}+1)  + x \\gamma^2 - g \\gamma e^{i\\omega\\tau_c} \\sqrt{g^2 \\mp x + 1} \\\\\n",
    "&= \\gamma^2(\\mp g^2 (e^{2i\\omega\\tau_c}+1) + x ) - g \\gamma e^{i\\omega\\tau_c} \\sqrt{g^2 \\mp x + 1} \\\\\n",
    "&= \\gamma^2(x \\mp g^2 (e^{2i\\omega\\tau_c}+1)) - g \\gamma e^{i\\omega\\tau_c} \\sqrt{g^2 \\mp x + 1} \\\\\n",
    "&= -(\\gamma^2(-x \\pm g^2 (e^{2i\\omega\\tau_c}+1)) + g \\gamma e^{i\\omega\\tau_c} \\sqrt{g^2 \\mp x + 1}) \\\\\n",
    "&= -(\\mp \\gamma^2(\\pm x - g^2 (e^{2i\\omega\\tau_c}+1)) + g \\gamma e^{i\\omega\\tau_c} \\sqrt{g^2 \\mp x + 1})\n",
    "\\end{align}\n",
    "$\n",
    "\n",
    "$\n",
    "\\begin{align}\n",
    "H_\\rm{cont} &= \\frac{-(\\mp \\gamma^2(\\pm x - g^2 (e^{2i\\omega\\tau_c}+1)) + g \\gamma e^{i\\omega\\tau_c} \\sqrt{g^2 \\mp x + 1})}{- ( \\pm 2\\gamma x\\sqrt{g^2 \\mp x+1}  + (g^2 \\mp x + 1))} \\\\\n",
    "&= \\frac{\\mp \\gamma^2(\\pm x - g^2 (e^{2i\\omega\\tau_c}+1)) + g \\gamma e^{i\\omega\\tau_c} \\sqrt{g^2 \\mp x + 1}}{\\pm 2\\gamma x\\sqrt{g^2 \\mp x+1}  + (g^2 \\mp x + 1)} \\\\\n",
    "&= \\frac{\\mp \\gamma^2(\\pm x - g^2 (e^{2i\\omega\\tau_c}+1)) + g \\gamma e^{i\\omega\\tau_c} \\sqrt{g^2 \\mp x + 1}}{g^2 \\pm x(2\\gamma \\sqrt{g^2 \\mp x+1} - 1) + 1} \\\\\n",
    "\\end{align}\n",
    "$"
   ]
  },
  {
   "cell_type": "markdown",
   "id": "6e89be4c-0af5-40e1-99f5-da6c835d1d60",
   "metadata": {},
   "source": [
    "$\n",
    "\\begin{align}\n",
    "\\Psi_a &= \\pm \\Psi_2\\Psi_3 \\pm(\\Psi_1 \\mp \\Psi_4) \\Psi_5 \\Psi_6(c_1) \\Psi_6(c_2) \\\\\n",
    "\\Psi_0 &= \\gamma^2[\\pm x-(1+e^{2i\\omega\\tau})g^2]\\\\\n",
    "\\Psi_1 &= \\sqrt{g^2 \\mp x + 1}\\\\\n",
    "\\Psi_2 &= \\frac{1}{2 \\gamma x}\\\\\n",
    "\\Psi_3 &= \\frac{1}{\\sqrt{g^2 \\mp x + 1}}\\\\\n",
    "\\Psi_4 &= 2 \\gamma x\\\\\n",
    "\\Psi_5 &= \\frac{1}{8 \\gamma^3 x^3}\\\\\n",
    "\\Psi_6 &= \\frac{1}{1-cx^{-1}} \\\\\n",
    "c_1 &= \\frac{\\sqrt{16 \\gamma^2(g^2+1)+1} \\mp 1}{8\\gamma^2}\\\\\n",
    "c_2 &= \\frac{-\\sqrt{16 \\gamma^2(g^2+1)+1} \\mp 1}{8\\gamma^2}\\\\\n",
    "\\end{align}\n",
    "$"
   ]
  },
  {
   "cell_type": "code",
   "execution_count": 8,
   "id": "e864d4f8-70fd-49a5-826a-c9d2d28c3fc6",
   "metadata": {},
   "outputs": [
    {
     "data": {
      "text/markdown": [
       "$$\\Psi_{a} = \\frac{\\pm \\left(\\mp \\sqrt{\\mp x + g^{2} + 1} + 2 \\gamma x\\right)}{\\sqrt{\\mp x + g^{2} + 1} \\left(\\pm x - g^{2} + 4 \\gamma^{2} x^{2} - 1\\right)}$$"
      ],
      "text/plain": [
       "<IPython.core.display.Markdown object>"
      ]
     },
     "metadata": {},
     "output_type": "display_data"
    }
   ],
   "source": [
    "g, x, gamma, c = symbols('g x gamma c', real=True)\n",
    "pm = symbols('\\pm')\n",
    "mp = symbols('\\mp')\n",
    "\n",
    "c1 = ( sqrt(16 * gamma**2 * (g**2 + 1) + 1) - pm) / (8 * gamma**2)\n",
    "c2 = (-sqrt(16 * gamma**2 * (g**2 + 1) + 1) - pm) / (8 * gamma**2)\n",
    "\n",
    "Psi_1 = sqrt(g**2 - pm * x + 1)\n",
    "Psi_2 = 1 / (2 * gamma * x)\n",
    "Psi_3 = 1 / Psi_1\n",
    "Psi_4 = 1 / Psi_2\n",
    "Psi_5 = Psi_2 ** 3\n",
    "Psi_6_c1 = 1 / (1 - c1 * x**-1)\n",
    "Psi_6_c2 = 1 / (1 - c2 * x**-1)\n",
    "\n",
    "temp = pm * Psi_2 * Psi_3 + pm * ((Psi_1 - pm * Psi_4) * Psi_5 * Psi_6_c1 * Psi_6_c2)\n",
    "\n",
    "Psi_a = temp.simplify().subs({pm*pm: 1, -pm: mp}).simplify()\n",
    "display(Markdown(rf\"$$\\Psi_{{a}} = {latex(Psi_a)}$$\"))"
   ]
  },
  {
   "cell_type": "markdown",
   "id": "7ebc911a-9b4c-4e3e-8410-333c1ff900a7",
   "metadata": {},
   "source": [
    "$\n",
    "\\begin{align}\n",
    "\\Psi_a \n",
    "&= \\frac{\\pm(2 \\gamma x \\mp \\sqrt{g^2 \\mp x + 1})}{\\sqrt{g^2 \\mp x + 1}(-g^2+4\\gamma^2x^2\\pm x - 1)} \\\\\n",
    "&= \\frac{\\pm(2 \\gamma x \\mp \\sqrt{g^2 \\mp x + 1})}{\\sqrt{g^2 \\mp x + 1}(4\\gamma^2x^2-(g^2\\mp x + 1))} \\\\\n",
    "&= \\frac{\\pm A-B}{B(A^2-B^2)} \\\\\n",
    "&= \\frac{\\pm A-B}{B(A+B)(A-B)} \\\\\n",
    "&= \\frac{1}{B(\\pm A+B)} \\\\\n",
    "&= \\frac{1}{\\sqrt{g^2 \\mp x + 1}(\\pm 2 \\gamma x+\\sqrt{g^2 \\mp x + 1})} \\\\\n",
    "&= \\frac{1}{\\sqrt{g^2 \\mp x + 1}(\\pm 2 \\gamma x+\\sqrt{g^2 \\mp x + 1})} \\\\\n",
    "&= \\frac{1}{g^2 \\mp x + 1 \\pm 2 \\gamma x \\sqrt{g^2 \\mp x + 1}} \\\\\n",
    "&= \\frac{1}{g^2 \\pm x(2 \\gamma \\sqrt{g^2 \\mp x + 1} - 1) + 1} \\\\\n",
    "\\end{align}\n",
    "$"
   ]
  },
  {
   "cell_type": "markdown",
   "id": "96e48d9e-1ad2-451e-b13a-2c7616e0e00c",
   "metadata": {},
   "source": [
    "### Convert $\\Psi_0 \\rightarrow \\psi_0$\n",
    "\n",
    "$\n",
    "\\begin{align}\n",
    "\\psi_0 \n",
    "&= \\frac{1}{2\\pi}\\int_{-\\infty}^{\\infty} \\Psi_0 e^{i\\omega t}d\\omega\\\\\n",
    "&= \\frac{1}{2\\pi}\\int_{-\\infty}^{\\infty} \\gamma^2[\\pm x-(1+e^{2i\\omega\\tau})g^2] e^{i\\omega t}d\\omega\\\\\n",
    "&= \\frac{1}{2\\pi}\\int_{-\\infty}^{\\infty} [\\pm\\gamma^2 x - \\gamma^2g^2 - \\gamma^2g^2e^{2i\\omega\\tau}] e^{i\\omega t}d\\omega\\\\\n",
    "&= \\frac{1}{2\\pi}\\int_{-\\infty}^{\\infty} [\\pm\\gamma^2 2g\\cos(\\omega\\tau) - \\gamma^2g^2 - \\gamma^2g^2e^{2i\\omega\\tau}] e^{i\\omega t}d\\omega\\\\\n",
    "&= \\frac{1}{2\\pi}\\int_{-\\infty}^{\\infty} [\\pm\\gamma^2 2g\\frac{e^{\\omega\\tau}+e^{-\\omega\\tau}}{2} - \\gamma^2g^2 - \\gamma^2g^2e^{2i\\omega\\tau}] e^{i\\omega t}d\\omega\\\\\n",
    "&= \\frac{1}{2\\pi}\\int_{-\\infty}^{\\infty} [\\pm\\gamma^2 g(e^{\\omega\\tau}+e^{-\\omega\\tau}) - \\gamma^2g^2e^0 - \\gamma^2g^2e^{2i\\omega\\tau}] e^{i\\omega t}d\\omega\\\\\n",
    "&= \\pm \\gamma^2g\\delta(t+\\tau) \\pm \\gamma^2g\\delta(t-\\tau) - \\gamma^2g^2\\delta(t) - \\gamma^2g^2\\delta(t+2\\tau)\n",
    "\\end{align}\n",
    "$"
   ]
  },
  {
   "cell_type": "markdown",
   "id": "ad0af8b2-58cd-41ce-8757-3ecffbefd4bf",
   "metadata": {},
   "source": [
    "### Convert $\\Psi_1 \\rightarrow \\psi_1$\n",
    "\n",
    "$\n",
    "\\begin{align}\n",
    "\\psi_1\n",
    "&= \\frac{1}{2\\pi}\\int_{-\\infty}^{\\infty} \\Psi_1 e^{i\\omega t}d\\omega\\\\\n",
    "&= \\frac{1}{2\\pi}\\int_{-\\infty}^{\\infty} (\\sqrt{g^2 \\mp x + 1}) e^{i\\omega t}d\\omega\\\\\n",
    "&= \\frac{1}{2\\pi}\\int_{-\\infty}^{\\infty} (\\sqrt{g^2 \\mp 2g\\cos(\\omega\\tau) + 1}) e^{i\\omega t}d\\omega\\\\\n",
    "&= \\sum_{m=0}^{0.5}\n",
    "\\end{align}\n",
    "$"
   ]
  },
  {
   "cell_type": "markdown",
   "id": "4e91b49c-5b78-4a99-8e16-64ca6584ef3b",
   "metadata": {},
   "source": [
    "$\n",
    "(x+y)^{n}=\\sum _{k=0}^{n}{\\binom {n}{k}}x^{k}y^{n-k}\n",
    "$"
   ]
  },
  {
   "cell_type": "markdown",
   "id": "316e09a6-abb3-42be-bf4a-2609371c49c3",
   "metadata": {},
   "source": [
    "$\n",
    "(x + y)^{0.5}=\\sum_{m=0}^{0.5}{\\binom {0.5}{m}}x^{m}y^{0.5-m}\n",
    "$"
   ]
  },
  {
   "cell_type": "code",
   "execution_count": 9,
   "id": "b5ff8dc7-f8e4-4609-a050-18dd3c2e35e7",
   "metadata": {},
   "outputs": [],
   "source": [
    "sr = 48000\n",
    "c = 343"
   ]
  },
  {
   "cell_type": "code",
   "execution_count": 10,
   "id": "67e3ce2b-17a3-47b2-a434-71fa6d74449e",
   "metadata": {},
   "outputs": [
    {
     "name": "stdout",
     "output_type": "stream",
     "text": [
      "83.96501457725947\n"
     ]
    }
   ],
   "source": [
    "d = 60 \n",
    "tau = d * 0.01 / c * sr\n",
    "print(tau)"
   ]
  },
  {
   "cell_type": "code",
   "execution_count": 11,
   "id": "e0415e06-757f-4a96-a9ea-8803ab692450",
   "metadata": {},
   "outputs": [
    {
     "name": "stdout",
     "output_type": "stream",
     "text": [
      "85.36443148688046\n"
     ]
    }
   ],
   "source": [
    "d = 61\n",
    "tau = d * 0.01 / c * sr\n",
    "print(tau)"
   ]
  }
 ],
 "metadata": {
  "kernelspec": {
   "display_name": "Python 3 (ipykernel)",
   "language": "python",
   "name": "python3"
  },
  "language_info": {
   "codemirror_mode": {
    "name": "ipython",
    "version": 3
   },
   "file_extension": ".py",
   "mimetype": "text/x-python",
   "name": "python",
   "nbconvert_exporter": "python",
   "pygments_lexer": "ipython3",
   "version": "3.8.1rc1"
  }
 },
 "nbformat": 4,
 "nbformat_minor": 5
}
