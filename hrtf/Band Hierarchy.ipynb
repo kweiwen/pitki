{
 "cells": [
  {
   "cell_type": "code",
   "execution_count": 1,
   "id": "fe0d402d-9b9d-4434-b64c-917d510a01af",
   "metadata": {},
   "outputs": [],
   "source": [
    "import numpy as np\n",
    "import matplotlib.pyplot as plt\n",
    "from matplotlib.ticker import ScalarFormatter\n",
    "import matplotlib.ticker as ticker\n",
    "from scipy.special import binom"
   ]
  },
  {
   "cell_type": "code",
   "execution_count": 2,
   "id": "b477ae26-349e-46e1-87cf-2bd461ccc269",
   "metadata": {},
   "outputs": [],
   "source": [
    "# Parameters\n",
    "l = 1.6  # L\n",
    "dr = 0.15  # Distance between ears\n",
    "theta = (18 / 180) * np.pi  # Half the speaker span\n",
    "l1 = np.sqrt(l**2 + (dr / 2)**2 - (dr * l * np.sin(theta / 2)))  # L1\n",
    "l2 = np.sqrt(l**2 + (dr / 2)**2 + (dr * l * np.sin(theta / 2)))  # L2\n",
    "g = l1 / l2  # g\n",
    "cs = 340.3  # Speed of sound\n",
    "dl = abs(l2 - l1)  # Distance difference\n",
    "tc = dl / cs  # Time delay\n",
    "tau_s = 3\n",
    "tau_c = 68e-6  # Time delay for a normal listening room\n",
    "g = 0.985\n",
    "fs = 44100\n",
    "gamma_db = 7"
   ]
  },
  {
   "cell_type": "markdown",
   "id": "ce3da138-80ca-4cee-a099-b8befe8c82fa",
   "metadata": {},
   "source": [
    "$$\n",
    "\\gamma = 10^{\\Gamma / 20}\n",
    "$$ "
   ]
  },
  {
   "cell_type": "markdown",
   "id": "d7757f3e-2dd1-491d-8220-ae0a68d593af",
   "metadata": {},
   "source": [
    "$$\n",
    "\\omega \\tau_c\n",
    "$$"
   ]
  },
  {
   "cell_type": "code",
   "execution_count": 3,
   "id": "ec32bff6-5a41-4207-8e53-6bd1561e596c",
   "metadata": {},
   "outputs": [],
   "source": [
    "def gamma_db2gain(db):\n",
    "    return 10 ** (db / 20)"
   ]
  },
  {
   "cell_type": "code",
   "execution_count": 4,
   "id": "9017bf1e-0bde-4a27-8826-bbafddf8b19b",
   "metadata": {},
   "outputs": [],
   "source": [
    "def compute_phi(g, gamma):\n",
    "    return np.arccos((g * g * gamma * gamma + gamma * gamma - 1) / (2 * g * gamma * gamma))"
   ]
  },
  {
   "cell_type": "code",
   "execution_count": 5,
   "id": "c62b9b8e-11de-4ffe-a818-726c00d52664",
   "metadata": {},
   "outputs": [],
   "source": [
    "def compute_band_edges(g, gamma, tau_c, fs):\n",
    "    phi = compute_phi(g, gamma)\n",
    "    bands = []\n",
    "    \n",
    "    f_nyquist = fs / 2\n",
    "    omega_nyquist_tau = 2 * np.pi * f_nyquist * tau_c\n",
    "    n_max = int(np.ceil(omega_nyquist_tau / (2 * np.pi))) \n",
    "    \n",
    "    for n in range(n_max):\n",
    "        omega_tau_0 =   (2*n+0)*np.pi - phi\n",
    "        omega_tau_1 =   (2*n+0)*np.pi + phi\n",
    "        omega_tau_2 =   (2*n+1)*np.pi - phi\n",
    "        omega_tau_3 =   (2*n+1)*np.pi + phi\n",
    "        omega_tau_4 = 2*(2*n+1)*np.pi - phi\n",
    "\n",
    "        f0 = omega_tau_0 / (2 * np.pi * tau_c)\n",
    "        f1 = omega_tau_1 / (2 * np.pi * tau_c)\n",
    "        f2 = omega_tau_2 / (2 * np.pi * tau_c)\n",
    "        f3 = omega_tau_3 / (2 * np.pi * tau_c)\n",
    "        f4 = omega_tau_4 / (2 * np.pi * tau_c)\n",
    "\n",
    "        if n == 0 and f0 < 0:\n",
    "            f0 = 0\n",
    "            omega_tau_0 = 0\n",
    "        \n",
    "        bands.append((omega_tau_0, omega_tau_1, f0, f1, 'b', 'Branch I'))\n",
    "        bands.append((omega_tau_1, omega_tau_2, f1, f2, 'g', 'Branch P'))\n",
    "        bands.append((omega_tau_2, omega_tau_3, f2, f3, 'r', 'Branch II'))\n",
    "        bands.append((omega_tau_3, omega_tau_4, f3, f4, 'g', 'Branch P'))\n",
    "\n",
    "    bands = [b for b in bands if b[2] < f_nyquist or b[3] <= f_nyquist]\n",
    "    \n",
    "    return bands"
   ]
  },
  {
   "cell_type": "code",
   "execution_count": 6,
   "id": "020e68eb-3b23-4c3c-853c-1fe4b4367827",
   "metadata": {},
   "outputs": [],
   "source": [
    "gamma = gamma_db2gain(gamma_db)\n",
    "bands = compute_band_edges(g, gamma, tau_c, fs)\n",
    "# Frequency and omega\n",
    "f = np.arange(1, fs//2+1, 1)\n",
    "w = 2 * np.pi * f\n",
    "x = 2 * g * np.cos(w * tc)\n",
    "r = gamma"
   ]
  },
  {
   "cell_type": "code",
   "execution_count": 7,
   "id": "e3266d49-8693-44b9-9bd9-1fbb2b7c732d",
   "metadata": {},
   "outputs": [
    {
     "data": {
      "image/png": "[encoded data removed]",
      "text/plain": [
       "<Figure size 432x288 with 2 Axes>"
      ]
     },
     "metadata": {
      "needs_background": "light"
     },
     "output_type": "display_data"
    }
   ],
   "source": [
    "fig, ax1 = plt.subplots()\n",
    "\n",
    "# Primary x-axis (w*tc)\n",
    "for omega1, omega2, f1, f2, color, branch in bands:\n",
    "    ax1.plot([omega1, omega2], [0, 0], color=color, label=branch)\n",
    "    ax1.axvline(omega1, linestyle='--', color='gray')\n",
    "\n",
    "ax1.set_xscale('log')\n",
    "ax1.set_xlim(1 / 100, bands[-1][1])\n",
    "ax1.set_xticks([np.pi / 100, np.pi / 10, np.pi / 2, np.pi, 2 * np.pi, 3 * np.pi])\n",
    "ax1.set_xticklabels([r'$\\frac{\\pi}{100}$', r'$\\frac{\\pi}{10}$', r'$\\frac{\\pi}{2}$', r'$\\pi$', r'$2\\pi$', r'$3\\pi$'])\n",
    "\n",
    "ax1.xaxis.set_minor_locator(ticker.NullLocator())\n",
    "\n",
    "# Calculate corresponding frequency ticks\n",
    "major_freq_ticks = [100, 1000, 10000, 20000]\n",
    "major_omega_tc_ticks = [2 * np.pi * f * tau_c for f in major_freq_ticks]\n",
    "\n",
    "ax2 = ax1.twiny()\n",
    "ax2.set_xlim(ax1.get_xlim())  # Align with primary x-axis\n",
    "ax2.set_xscale('log')\n",
    "\n",
    "ax2.set_xticks(major_omega_tc_ticks, minor=False)\n",
    "ax2.set_xticklabels([str(f) for f in major_freq_ticks])\n",
    "\n",
    "minor_freq_ticks = (\n",
    "    list(range(30, 100, 10))    +   # 30, 40, ... , 90\n",
    "    list(range(200, 1000, 100)) +   # 200, 300, ..., 900\n",
    "    list(range(2000, 10000, 1000))  # 2000, 3000, ..., 9000\n",
    ")\n",
    "minor_omega_tc_ticks = [2 * np.pi * f * tau_c for f in minor_freq_ticks]\n",
    "ax2.set_xticks(minor_omega_tc_ticks, minor=True)  # set minor ticks\n",
    "ax2.tick_params(axis='x', which='minor', top=True, labeltop=False)\n",
    "\n",
    "ax1.legend(loc='upper left')\n",
    "ax1.set_xlabel(r'$\\omega \\tau_c$')\n",
    "ax1.set_ylabel(r'$\\hat{S}(\\mathrm{dB})$')\n",
    "ax2.set_xlabel(r'$f(\\mathrm{Hz})$')\n",
    "\n",
    "plt.ylim(-20, 40)\n",
    "plt.tight_layout()\n",
    "plt.show()"
   ]
  },
  {
   "cell_type": "markdown",
   "id": "3a08b2a8",
   "metadata": {},
   "source": [
    "$$\n",
    "\\chi_{\\textrm{I},\\textrm{II}}^{[O]}(\\omega) = \\mp \\frac{\\mp \\gamma x^2+(g^2+1)(x\\gamma\\pm\\sqrt{g^2\\mp x+1})}{|x|(\\gamma g^2 \\mp \\gamma x + \\gamma - \\sqrt{g^2 \\mp x + 1})}\n",
    "$$\n",
    "\n",
    "$$\n",
    "\\chi_{\\textrm{I}}^{[O]}(\\omega) = - \\frac{- \\gamma x^2+(g^2+1)(x\\gamma + \\sqrt{g^2 - x+1})}{|x|(\\gamma g^2 - \\gamma x + \\gamma - \\sqrt{g^2 - x + 1})}\n",
    "$$\n",
    "$$\n",
    "\\chi_{\\textrm{II}}^{[O]}(\\omega) = \\frac{ \\gamma x^2+(g^2+1)(x\\gamma - \\sqrt{g^2 + x+1})}{|x|(\\gamma g^2 + \\gamma x + \\gamma - \\sqrt{g^2 + x + 1})}\n",
    "$$"
   ]
  },
  {
   "cell_type": "code",
   "execution_count": 8,
   "id": "3798d61f",
   "metadata": {},
   "outputs": [],
   "source": [
    "# Calculate spectral amplitudes\n",
    "# Side image at ipsi ear @Branch I\n",
    "S_si_ipsi_I  = -(-x*x*r + (g*g+1) * (x*r + np.sqrt(g*g-x+1))) / (np.abs(x) * (r*g*g - r*x + r - np.sqrt(g*g-x+1)))\n",
    "# Side image at ipsi ear @Branch II\n",
    "S_si_ipsi_II =  ( x*x*r + (g*g+1) * (x*r - np.sqrt(g*g+x+1))) / (np.abs(x) * (r*g*g + r*x + r - np.sqrt(g*g+x+1)))"
   ]
  },
  {
   "cell_type": "code",
   "execution_count": 9,
   "id": "ff1e0d76",
   "metadata": {},
   "outputs": [
    {
     "name": "stderr",
     "output_type": "stream",
     "text": [
      "/var/folders/27/qgjvyhpn66730t4wymj3hkb80000gn/T/ipykernel_11325/3179941712.py:1: RuntimeWarning: invalid value encountered in log10\n",
      "  plt.plot(w * tc, 20 * np.log10(S_si_ipsi_I))\n",
      "/var/folders/27/qgjvyhpn66730t4wymj3hkb80000gn/T/ipykernel_11325/3179941712.py:2: RuntimeWarning: invalid value encountered in log10\n",
      "  plt.plot(w * tc, 20 * np.log10(S_si_ipsi_II))\n"
     ]
    },
    {
     "data": {
      "image/png": "[encoded data removed]",
      "text/plain": [
       "<Figure size 432x288 with 1 Axes>"
      ]
     },
     "metadata": {
      "needs_background": "light"
     },
     "output_type": "display_data"
    }
   ],
   "source": [
    "plt.plot(w * tc, 20 * np.log10(S_si_ipsi_I))\n",
    "plt.plot(w * tc, 20 * np.log10(S_si_ipsi_II))\n",
    "plt.axvline(1 * np.pi, color='gray')\n",
    "plt.axvline(2 * np.pi, color='gray')\n",
    "plt.axvline(3 * np.pi, color='gray')\n",
    "plt.xscale('log')\n",
    "plt.ylim(-20, 40)\n",
    "plt.show()"
   ]
  },
  {
   "cell_type": "code",
   "execution_count": 10,
   "id": "b0f5649e",
   "metadata": {},
   "outputs": [],
   "source": [
    "# Calculate spectral amplitudes\n",
    "# Side image at ipsi ear @Branch I\n",
    "E_si_ipsi_I  = ( x*r*r*(g*g-x+1) + (r*r*g+r) * np.sqrt(g*g-x+1)) / (1+g*g-x+2*r*x*np.sqrt(g*g-x+1))\n",
    "# Side image at ipsi ear @Branch II\n",
    "E_si_ipsi_II = (-x*r*r*(g*g+x+1) + (r*r*g+r) * np.sqrt(g*g+x+1)) / (1+g*g+x-2*r*x*np.sqrt(g*g+x+1))\n",
    "# Side image at ipsi ear @Branch Perfect\n",
    "E_si_ipsi_P  = np.ones_like(w) * r"
   ]
  },
  {
   "cell_type": "code",
   "execution_count": 11,
   "id": "72a16a64",
   "metadata": {},
   "outputs": [
    {
     "name": "stderr",
     "output_type": "stream",
     "text": [
      "/var/folders/27/qgjvyhpn66730t4wymj3hkb80000gn/T/ipykernel_11325/771453753.py:1: RuntimeWarning: invalid value encountered in log10\n",
      "  plt.plot(w * tc, 20 * np.log10(E_si_ipsi_I))\n",
      "/var/folders/27/qgjvyhpn66730t4wymj3hkb80000gn/T/ipykernel_11325/771453753.py:2: RuntimeWarning: invalid value encountered in log10\n",
      "  plt.plot(w * tc, 20 * np.log10(E_si_ipsi_II))\n"
     ]
    },
    {
     "data": {
      "image/png": "[encoded data removed]",
      "text/plain": [
       "<Figure size 432x288 with 1 Axes>"
      ]
     },
     "metadata": {
      "needs_background": "light"
     },
     "output_type": "display_data"
    }
   ],
   "source": [
    "plt.plot(w * tc, 20 * np.log10(E_si_ipsi_I))\n",
    "plt.plot(w * tc, 20 * np.log10(E_si_ipsi_II))\n",
    "plt.plot(w * tc, 20 * np.log10(E_si_ipsi_P))\n",
    "# plt.xscale('log')\n",
    "# plt.axvline(np.pi)\n",
    "plt.ylim(-20, 40)\n",
    "plt.show()"
   ]
  },
  {
   "cell_type": "code",
   "execution_count": 12,
   "id": "0710d4bc",
   "metadata": {},
   "outputs": [],
   "source": [
    "def delta_function(t_values, t_shift):\n",
    "    \"\"\"Generates a discrete delta function.\"\"\"\n",
    "    delta = np.zeros_like(t_values)\n",
    "    delta[t_values == t_shift] = 1\n",
    "    return delta"
   ]
  },
  {
   "cell_type": "markdown",
   "id": "ec1adca3",
   "metadata": {},
   "source": [
    "$$\n",
    "\\psi_0 = -g^2r^2 \\delta(t) \\pm gr^2 \\delta(\\tau_c-t) \\pm gr^2 \\delta(t+\\tau_c) -g^2r^2 \\delta(t+2\\tau_c)\n",
    "$$"
   ]
  },
  {
   "cell_type": "code",
   "execution_count": 13,
   "id": "3d438e4c",
   "metadata": {},
   "outputs": [],
   "source": [
    "def psi_0(g, r, tau, branch, filter_length):\n",
    "    t_values = np.arange(-filter_length, filter_length + 1)\n",
    "    comp1 = -g*g*r*r*delta_function(t_values, 0) \n",
    "    comp2 =  g*r*r*delta_function(t_values, tau) \n",
    "    comp3 =  g*r*r*delta_function(t_values, -tau) \n",
    "    comp4 = -g*g*r*r*delta_function(t_values, -2 * tau)\n",
    "    if branch == 1:\n",
    "        return comp1 + comp2 + comp3 + comp4\n",
    "    if branch == 2:\n",
    "        return comp1 - comp2 - comp3 + comp4    "
   ]
  },
  {
   "cell_type": "markdown",
   "id": "a57a508e",
   "metadata": {},
   "source": [
    "$$\n",
    "\\psi_1 = \\sum_{m=0}^{\\infty} \\binom{1/2}{m} (\\mp g)^m (g^2 + 1)^{1/2-m} \\times \\sum_{k=0}^m \\binom{m}{k} \\delta(2k\\tau_c - t - m\\tau_c)\n",
    "$$"
   ]
  },
  {
   "cell_type": "code",
   "execution_count": 14,
   "id": "0913aac1",
   "metadata": {},
   "outputs": [],
   "source": [
    "def psi_1(g, tau, branch, filter_length):\n",
    "    t_values = np.arange(-filter_length, filter_length + 1)\n",
    "    output = np.zeros_like(t_values, dtype=float)\n",
    "    \n",
    "    sign = -1 if branch == 1 else 1  \n",
    "\n",
    "    for m in range(filter_length):\n",
    "        comp1 = binom(0.5, m) * (sign * g)**m * (g**2 + 1)**(0.5 - m)\n",
    "        \n",
    "        for k in range(m + 1):\n",
    "            comp2 = binom(m, k) * delta_function(t_values, 2 * k * tau - m * tau)\n",
    "            output += comp1 * comp2 \n",
    "    \n",
    "    return output"
   ]
  },
  {
   "cell_type": "markdown",
   "id": "2d75d233",
   "metadata": {},
   "source": [
    "$$\n",
    "\\psi_2 = \\pm \\frac{1}{4g\\gamma} \\sum_{m=0}^{\\infty} \\binom{-1/2}{m} (-1)^m \\times \\sum_{k=0}^{2m} \\binom{2m}{k} (-1)^{k+m}4^{-m}\\delta(t + 2k\\tau_c - 2m\\tau_c)\n",
    "$$"
   ]
  },
  {
   "cell_type": "code",
   "execution_count": 15,
   "id": "54bdc104",
   "metadata": {},
   "outputs": [],
   "source": [
    "def psi_2(g, gamma, tau, branch, filter_length):\n",
    "    t_values = np.arange(-filter_length, filter_length + 1)\n",
    "    output = np.zeros_like(t_values, dtype=float)\n",
    "    \n",
    "    sign = 1 if branch == 1 else -1 \n",
    "\n",
    "    prefactor = sign / (4 * g * gamma)  \n",
    "    \n",
    "    for m in range(filter_length): \n",
    "        comp1 = binom(-0.5, m) * (-1)**m\n",
    "        \n",
    "        for k in range(2 * m + 1):\n",
    "            comp2 = binom(2 * m, k) * (-1)**(k + m) * 4**(-m) * delta_function(t_values, -2 * k * tau + 2 * m * tau)\n",
    "            output += comp1 * comp2\n",
    "    \n",
    "    return prefactor * output"
   ]
  },
  {
   "cell_type": "markdown",
   "id": "d4461cb0",
   "metadata": {},
   "source": [
    "$$\n",
    "\\psi_3 = \\sum_{m=0}^{\\infty} \\binom{-1/2}{m} (\\mp g)^m (g^2 + 1)^{1/2-m} \\times \\sum_{k=0}^m \\binom{m}{k} \\delta(2k\\tau_c - t - m\\tau_c)\n",
    "$$"
   ]
  },
  {
   "cell_type": "code",
   "execution_count": 16,
   "id": "7d6efdc4",
   "metadata": {},
   "outputs": [],
   "source": [
    "def psi_3(g, tau, branch, filter_length):\n",
    "    t_values = np.arange(-filter_length, filter_length + 1)\n",
    "    output = np.zeros_like(t_values, dtype=float)\n",
    "    \n",
    "    sign = -1 if branch == 1 else 1  \n",
    "\n",
    "    for m in range(filter_length):\n",
    "        comp1 = binom(-0.5, m) * (sign * g)**m * (g**2 + 1)**(0.5 - m)\n",
    "        \n",
    "        for k in range(m + 1):\n",
    "            comp2 = binom(m, k) * delta_function(t_values, 2 * k * tau - m * tau)\n",
    "            output += comp1 * comp2 \n",
    "    \n",
    "    return output"
   ]
  },
  {
   "cell_type": "markdown",
   "id": "6be7d761",
   "metadata": {},
   "source": [
    "$$\n",
    "\\psi_4 = 2g\\gamma\\delta(\\tau_c - t) + 2g\\gamma\\delta(t + \\tau_c)\n",
    "$$"
   ]
  },
  {
   "cell_type": "code",
   "execution_count": 17,
   "id": "6d5a90b6",
   "metadata": {},
   "outputs": [],
   "source": [
    "def psi_4(g, gamma, tau, filter_length):\n",
    "    t_values = np.arange(-filter_length, filter_length + 1)\n",
    "    \n",
    "    comp1 = 2 * g * gamma * delta_function(t_values, tau)\n",
    "    comp2 = 2 * g * gamma * delta_function(t_values, -tau)\n",
    "    \n",
    "    return comp1 + comp2"
   ]
  },
  {
   "cell_type": "markdown",
   "id": "0d62abfc",
   "metadata": {},
   "source": [
    "$$\n",
    "\\psi_5 = \\pm \\frac{1}{(4g\\gamma)^3} \\sum_{m=0}^{\\infty} \\binom{-3/2}{m} (-1)^m \\times \\sum_{k=0}^{2m} \\binom{2m}{k} (-1)^{k+m}4^{-m}\\delta(t + 2k\\tau_c - 2m\\tau_c)\n",
    "$$"
   ]
  },
  {
   "cell_type": "code",
   "execution_count": 18,
   "id": "f0a5b691",
   "metadata": {},
   "outputs": [],
   "source": [
    "def psi_5(g, gamma, tau, branch, filter_length):\n",
    "    t_values = np.arange(-filter_length, filter_length + 1)\n",
    "    output = np.zeros_like(t_values, dtype=float)\n",
    "    \n",
    "    sign = 1 if branch == 1 else -1 \n",
    "\n",
    "    prefactor = sign / (4 * g * gamma)**3 \n",
    "    \n",
    "    for m in range(filter_length): \n",
    "        comp1 = binom(-1.5, m) * (-1)**m\n",
    "        \n",
    "        for k in range(2 * m + 1):\n",
    "            comp2 = binom(2 * m, k) * (-1)**(k + m) * 4**(-m) * delta_function(t_values, -2 * k * tau + 2 * m * tau)\n",
    "            output += comp1 * comp2\n",
    "    \n",
    "    return prefactor * output"
   ]
  },
  {
   "cell_type": "markdown",
   "id": "37aca525",
   "metadata": {},
   "source": [
    "$$\n",
    "\\psi_6(c) = \\sum_{p=0}^{\\infty} \\left(\\pm\\frac{c}{2g}\\right)^p \\sum_{n=0}^{\\infty} \\binom{-p/2}{n} (-1)^n \\times \\sum_{k=0}^{2n} \\binom{2n}{k} (-1)^{k+n}4^{-n}\\delta(t + 2k\\tau_c - 2n\\tau_c)\n",
    "$$"
   ]
  },
  {
   "cell_type": "code",
   "execution_count": 19,
   "id": "776b29ae",
   "metadata": {},
   "outputs": [],
   "source": [
    "def psi_6(c, g, tau, branch, filter_length):\n",
    "    t_values = np.arange(-filter_length, filter_length + 1)\n",
    "    output = np.zeros_like(t_values, dtype=float)\n",
    "    \n",
    "    sign = 1 if branch == 1 else -1  \n",
    "\n",
    "    for p in range(filter_length):  \n",
    "        coef_p = (sign * c / (2 * g)) ** p  \n",
    "        \n",
    "        for n in range(filter_length):  \n",
    "            coef_n = binom(-p/2, n) * (-1)**n \n",
    "            for k in range(2 * n + 1):\n",
    "                coef_k = binom(2 * n, k) * (-1)**(k + n) * 4**(-n)  \n",
    "                comp = coef_k * delta_function(t_values, - 2 * k * tau + 2 * n * tau)\n",
    "                output += coef_p * coef_n * comp \n",
    "    \n",
    "    return output"
   ]
  },
  {
   "cell_type": "markdown",
   "id": "d6e3592c",
   "metadata": {},
   "source": [
    "$$\n",
    "\\begin{align}\n",
    "c_1 &=  \\frac{\\sqrt{16\\gamma^2(g^2 + 1) + 1} \\mp 1}{8\\gamma^2} \\\\\n",
    "c_2 &= -\\frac{\\sqrt{16\\gamma^2(g^2 + 1) + 1} \\mp 1}{8\\gamma^2} \\\\\n",
    "\\end{align}\n",
    "$$"
   ]
  },
  {
   "cell_type": "code",
   "execution_count": 20,
   "id": "1d78ddac",
   "metadata": {},
   "outputs": [],
   "source": [
    "def compute_c1_c2(g, gamma, branch):\n",
    "    sqrt_term = np.sqrt(16 * gamma**2 * (g**2 + 1) + 1)\n",
    "    \n",
    "    sign = -1 if branch == 1 else 1  \n",
    "    \n",
    "    c1 = (sqrt_term + sign) / (8 * gamma**2)\n",
    "    c2 = -c1\n",
    "    \n",
    "    return c1, c2"
   ]
  },
  {
   "cell_type": "markdown",
   "id": "a1516185",
   "metadata": {},
   "source": [
    "$$\n",
    "\\psi_a = \\pm\\psi_2 * \\psi_3 \\pm (\\psi_1 \\mp \\psi_4) * \\psi_5 * \\psi_6(c_1) * \\psi_6(c_2)\n",
    "$$"
   ]
  },
  {
   "cell_type": "code",
   "execution_count": 21,
   "id": "544980d6",
   "metadata": {},
   "outputs": [],
   "source": [
    "def psi_a(psi1, psi2, psi3, psi4, psi5, psi_6_c1, psi_6_c2, branch):\n",
    "    sign_pm = 1 if branch == 1 else -1  # plus minus ±\n",
    "    sign_mp = -1 if branch == 1 else 1  # minus plus ∓\n",
    "    \n",
    "    term1 = sign_pm * convolve(psi2, psi3, mode='same')  \n",
    "\n",
    "    term2_inner = convolve(psi1 + sign_mp * psi4, psi5, mode='same')\n",
    "    term2_inner = convolve(term2_inner, psi_6_c1, mode='same')\n",
    "    term2_inner = convolve(term2_inner, psi_6_c2, mode='same')\n",
    "    \n",
    "    term2 = sign_pm * term2_inner \n",
    "\n",
    "    return term1 + term2"
   ]
  },
  {
   "cell_type": "code",
   "execution_count": 26,
   "id": "01cb0526",
   "metadata": {},
   "outputs": [
    {
     "data": {
      "text/plain": [
       "nan"
      ]
     },
     "execution_count": 26,
     "metadata": {},
     "output_type": "execute_result"
    }
   ],
   "source": [
    "branch = 1\n",
    "filter_length = 10\n",
    "# psi0 = psi_0(g, r, tau_s, branch, filter_length)\n",
    "# psi1 = psi_1(g, tau_s, branch, filter_length)\n",
    "# psi2 = psi_2(g, r, tau_s, branch, filter_length)\n",
    "# psi3 = psi_3(g, tau_s, branch, filter_length)\n",
    "# psi4 = psi_4(g, r, tau_s, filter_length)\n",
    "# psi5 = psi_5(g, r, tau_s, branch, filter_length)\n",
    "# c1, c2 = compute_c1_c2(g, r, branch)\n",
    "# psi6c1 = psi_6(c1, g, tau_s, branch, filter_length)\n",
    "# psi6c2 = psi_6(c1, g, tau_s, branch, filter_length)\n",
    "binom(-1, 0)\n",
    "# for p in range(filter_length):  \n",
    "#     for n in range(filter_length):  \n",
    "#         coef_n = binom(-p/2, n) * (-1)**n \n",
    "#         print(p, n, coef_n)"
   ]
  },
  {
   "cell_type": "code",
   "execution_count": null,
   "id": "4cab6a66",
   "metadata": {},
   "outputs": [],
   "source": []
  }
 ],
 "metadata": {
  "kernelspec": {
   "display_name": "Python 3",
   "language": "python",
   "name": "python3"
  },
  "language_info": {
   "codemirror_mode": {
    "name": "ipython",
    "version": 3
   },
   "file_extension": ".py",
   "mimetype": "text/x-python",
   "name": "python",
   "nbconvert_exporter": "python",
   "pygments_lexer": "ipython3",
   "version": "3.10.2"
  }
 },
 "nbformat": 4,
 "nbformat_minor": 5
}
