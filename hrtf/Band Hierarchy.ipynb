{
 "cells": [
  {
   "cell_type": "code",
   "execution_count": 1,
   "id": "fe0d402d-9b9d-4434-b64c-917d510a01af",
   "metadata": {},
   "outputs": [],
   "source": [
    "import numpy as np\n",
    "import matplotlib.pyplot as plt\n",
    "from matplotlib.ticker import ScalarFormatter\n",
    "import matplotlib.ticker as ticker"
   ]
  },
  {
   "cell_type": "code",
   "execution_count": 2,
   "id": "b477ae26-349e-46e1-87cf-2bd461ccc269",
   "metadata": {},
   "outputs": [],
   "source": [
    "# Parameters\n",
    "l = 1.6  # L\n",
    "dr = 0.15  # Distance between ears\n",
    "theta = (18 / 180) * np.pi  # Half the speaker span\n",
    "l1 = np.sqrt(l**2 + (dr / 2)**2 - (dr * l * np.sin(theta / 2)))  # L1\n",
    "l2 = np.sqrt(l**2 + (dr / 2)**2 + (dr * l * np.sin(theta / 2)))  # L2\n",
    "g = l1 / l2  # g\n",
    "cs = 340.3  # Speed of sound\n",
    "dl = abs(l2 - l1)  # Distance difference\n",
    "tc = dl / cs  # Time delay\n",
    "tau_s = 3\n",
    "tau_c = 68e-6  # Time delay for a normal listening room\n",
    "g = 0.985\n",
    "fs = 44100\n",
    "gamma_db = 7"
   ]
  },
  {
   "cell_type": "markdown",
   "id": "ce3da138-80ca-4cee-a099-b8befe8c82fa",
   "metadata": {},
   "source": [
    "$$\n",
    "\\gamma = 10^{\\Gamma / 20}\n",
    "$$ "
   ]
  },
  {
   "cell_type": "markdown",
   "id": "d7757f3e-2dd1-491d-8220-ae0a68d593af",
   "metadata": {},
   "source": [
    "$$\n",
    "\\omega \\tau_c\n",
    "$$"
   ]
  },
  {
   "cell_type": "code",
   "execution_count": 3,
   "id": "ec32bff6-5a41-4207-8e53-6bd1561e596c",
   "metadata": {},
   "outputs": [],
   "source": [
    "def gamma_db2gain(db):\n",
    "    return 10 ** (db / 20)"
   ]
  },
  {
   "cell_type": "code",
   "execution_count": 4,
   "id": "9017bf1e-0bde-4a27-8826-bbafddf8b19b",
   "metadata": {},
   "outputs": [],
   "source": [
    "def compute_phi(g, gamma):\n",
    "    return np.arccos((g * g * gamma * gamma + gamma * gamma - 1) / (2 * g * gamma * gamma))"
   ]
  },
  {
   "cell_type": "code",
   "execution_count": 5,
   "id": "c62b9b8e-11de-4ffe-a818-726c00d52664",
   "metadata": {},
   "outputs": [],
   "source": [
    "def compute_band_edges(g, gamma, tau_c, fs):\n",
    "    phi = compute_phi(g, gamma)\n",
    "    bands = []\n",
    "    \n",
    "    f_nyquist = fs / 2\n",
    "    omega_nyquist_tau = 2 * np.pi * f_nyquist * tau_c\n",
    "    n_max = int(np.ceil(omega_nyquist_tau / (2 * np.pi))) \n",
    "    \n",
    "    for n in range(n_max):\n",
    "        omega_tau_0 =   (2*n+0)*np.pi - phi\n",
    "        omega_tau_1 =   (2*n+0)*np.pi + phi\n",
    "        omega_tau_2 =   (2*n+1)*np.pi - phi\n",
    "        omega_tau_3 =   (2*n+1)*np.pi + phi\n",
    "        omega_tau_4 = 2*(2*n+1)*np.pi - phi\n",
    "\n",
    "        f0 = omega_tau_0 / (2 * np.pi * tau_c)\n",
    "        f1 = omega_tau_1 / (2 * np.pi * tau_c)\n",
    "        f2 = omega_tau_2 / (2 * np.pi * tau_c)\n",
    "        f3 = omega_tau_3 / (2 * np.pi * tau_c)\n",
    "        f4 = omega_tau_4 / (2 * np.pi * tau_c)\n",
    "\n",
    "        if n == 0 and f0 < 0:\n",
    "            f0 = 0\n",
    "            omega_tau_0 = 0\n",
    "        \n",
    "        bands.append((omega_tau_0, omega_tau_1, f0, f1, 'b', 'Branch I'))\n",
    "        bands.append((omega_tau_1, omega_tau_2, f1, f2, 'g', 'Branch P'))\n",
    "        bands.append((omega_tau_2, omega_tau_3, f2, f3, 'r', 'Branch II'))\n",
    "        bands.append((omega_tau_3, omega_tau_4, f3, f4, 'g', 'Branch P'))\n",
    "\n",
    "    bands = [b for b in bands if b[2] < f_nyquist or b[3] <= f_nyquist]\n",
    "    \n",
    "    return bands"
   ]
  },
  {
   "cell_type": "code",
   "execution_count": 6,
   "id": "020e68eb-3b23-4c3c-853c-1fe4b4367827",
   "metadata": {},
   "outputs": [],
   "source": [
    "gamma = gamma_db2gain(gamma_db)\n",
    "bands = compute_band_edges(g, gamma, tau_c, fs)"
   ]
  },
  {
   "cell_type": "code",
   "execution_count": 7,
   "id": "539289fa-c6d8-4ba6-b593-7a5319dc547b",
   "metadata": {},
   "outputs": [],
   "source": [
    "# Frequency and omega\n",
    "f = np.arange(1, fs//2+1, 1)\n",
    "w = 2 * np.pi * f"
   ]
  },
  {
   "cell_type": "code",
   "execution_count": 21,
   "id": "e3266d49-8693-44b9-9bd9-1fbb2b7c732d",
   "metadata": {},
   "outputs": [
    {
     "data": {
      "image/png": "[encoded data removed]",
      "text/plain": [
       "<Figure size 640x480 with 2 Axes>"
      ]
     },
     "metadata": {},
     "output_type": "display_data"
    }
   ],
   "source": [
    "fig, ax1 = plt.subplots()\n",
    "\n",
    "# Primary x-axis (w*tc)\n",
    "for omega1, omega2, f1, f2, color, branch in bands:\n",
    "    ax1.plot([omega1, omega2], [0, 0], color=color, label=branch)\n",
    "    ax1.axvline(omega1, linestyle='--', color='gray')\n",
    "\n",
    "ax1.set_xlabel(r'$\\omega \\tau_c$')\n",
    "ax1.set_xscale('log')\n",
    "ax1.set_xlim(np.pi / 300, 9.878477294118102)\n",
    "ax1.set_xticks([np.pi / 100, np.pi / 10, np.pi / 2, np.pi, 2 * np.pi, 3 * np.pi])\n",
    "ax1.set_xticklabels([r'$\\frac{\\pi}{100}$', r'$\\frac{\\pi}{10}$', r'$\\frac{\\pi}{2}$', r'$\\pi$', r'$2\\pi$', r'$3\\pi$'])\n",
    "ax1.set_ylabel(r'$\\hat{S}(dB)$')\n",
    "\n",
    "ax1.legend(loc='upper right')\n",
    "\n",
    "ax1.xaxis.set_minor_locator(ticker.NullLocator())\n",
    "\n",
    "# Calculate corresponding frequency ticks\n",
    "major_freq_ticks = [100, 1000, 10000, 20000]\n",
    "major_omega_tc_ticks = [2 * np.pi * f * tau_c for f in major_freq_ticks]\n",
    "\n",
    "ax2 = ax1.twiny()\n",
    "ax2.set_xlim(ax1.get_xlim())  # Align with primary x-axis\n",
    "ax2.set_xscale('log')\n",
    "\n",
    "ax2.set_xticks(major_omega_tc_ticks, minor=False)\n",
    "ax2.set_xticklabels([str(f) for f in major_freq_ticks])\n",
    "\n",
    "minor_freq_ticks = (\n",
    "    list(range(30, 100, 10))    +   # 30, 40, ... , 90\n",
    "    list(range(200, 1000, 100)) +   # 200, 300, ..., 900\n",
    "    list(range(2000, 10000, 1000))  # 2000, 3000, ..., 9000\n",
    ")\n",
    "minor_omega_tc_ticks = [2 * np.pi * f * tau_c for f in minor_freq_ticks]\n",
    "ax2.set_xticks(minor_omega_tc_ticks, minor=True)  # set minor ticks\n",
    "\n",
    "ax2.set_xlabel('f(Hz)')\n",
    "ax2.tick_params(axis='x', which='minor', top=True, labeltop=False)\n",
    "\n",
    "plt.ylim(-20, 40)\n",
    "plt.tight_layout()\n",
    "plt.show()"
   ]
  },
  {
   "cell_type": "code",
   "execution_count": null,
   "id": "b7dd737f-3938-42f0-9c5d-5c0c6057da97",
   "metadata": {},
   "outputs": [],
   "source": []
  }
 ],
 "metadata": {
  "kernelspec": {
   "display_name": "Python 3 (ipykernel)",
   "language": "python",
   "name": "python3"
  },
  "language_info": {
   "codemirror_mode": {
    "name": "ipython",
    "version": 3
   },
   "file_extension": ".py",
   "mimetype": "text/x-python",
   "name": "python",
   "nbconvert_exporter": "python",
   "pygments_lexer": "ipython3",
   "version": "3.8.1rc1"
  }
 },
 "nbformat": 4,
 "nbformat_minor": 5
}
