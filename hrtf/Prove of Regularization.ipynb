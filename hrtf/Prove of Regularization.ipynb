{
 "cells": [
  {
   "cell_type": "code",
   "execution_count": 1,
   "id": "44606150-67af-4a9d-8339-863ef46aeffd",
   "metadata": {},
   "outputs": [],
   "source": [
    "from sympy import symbols, Matrix, I, exp, simplify"
   ]
  },
  {
   "cell_type": "code",
   "execution_count": 2,
   "id": "6d1a16bb-9642-4b5a-8709-bacec4a6e01f",
   "metadata": {},
   "outputs": [
    {
     "data": {
      "text/latex": [
       "$\\displaystyle \\left[\\begin{matrix}\\frac{g^{2} \\left(- z^{2 \\tau} \\left(\\beta + g^{2} + 1\\right) + z^{2 \\tau} + 1\\right) + z^{2 \\tau} \\left(- \\beta + g^{2} \\left(z^{2 \\tau} + 1\\right) - g^{2} - 1\\right)}{g^{2} \\left(z^{2 \\tau} + 1\\right)^{2} - z^{2 \\tau} \\left(\\beta + g^{2} + 1\\right)^{2}} & \\frac{g z^{\\tau} \\left(- \\beta + g^{2} \\left(z^{2 \\tau} + 1\\right) - g^{2} - z^{2 \\tau} \\left(\\beta + g^{2} + 1\\right) + z^{2 \\tau}\\right)}{g^{2} \\left(z^{2 \\tau} + 1\\right)^{2} - z^{2 \\tau} \\left(\\beta + g^{2} + 1\\right)^{2}}\\\\\\frac{g z^{\\tau} \\left(- \\beta + g^{2} \\left(z^{2 \\tau} + 1\\right) - g^{2} - z^{2 \\tau} \\left(\\beta + g^{2} + 1\\right) + z^{2 \\tau}\\right)}{g^{2} \\left(z^{2 \\tau} + 1\\right)^{2} - z^{2 \\tau} \\left(\\beta + g^{2} + 1\\right)^{2}} & \\frac{g^{2} \\left(- z^{2 \\tau} \\left(\\beta + g^{2} + 1\\right) + z^{2 \\tau} + 1\\right) + z^{2 \\tau} \\left(- \\beta + g^{2} \\left(z^{2 \\tau} + 1\\right) - g^{2} - 1\\right)}{g^{2} \\left(z^{2 \\tau} + 1\\right)^{2} - z^{2 \\tau} \\left(\\beta + g^{2} + 1\\right)^{2}}\\end{matrix}\\right]$"
      ],
      "text/plain": [
       "Matrix([\n",
       "[(g**2*(-z**(2*tau)*(beta + g**2 + 1) + z**(2*tau) + 1) + z**(2*tau)*(-beta + g**2*(z**(2*tau) + 1) - g**2 - 1))/(g**2*(z**(2*tau) + 1)**2 - z**(2*tau)*(beta + g**2 + 1)**2),                     g*z**tau*(-beta + g**2*(z**(2*tau) + 1) - g**2 - z**(2*tau)*(beta + g**2 + 1) + z**(2*tau))/(g**2*(z**(2*tau) + 1)**2 - z**(2*tau)*(beta + g**2 + 1)**2)],\n",
       "[                    g*z**tau*(-beta + g**2*(z**(2*tau) + 1) - g**2 - z**(2*tau)*(beta + g**2 + 1) + z**(2*tau))/(g**2*(z**(2*tau) + 1)**2 - z**(2*tau)*(beta + g**2 + 1)**2), (g**2*(-z**(2*tau)*(beta + g**2 + 1) + z**(2*tau) + 1) + z**(2*tau)*(-beta + g**2*(z**(2*tau) + 1) - g**2 - 1))/(g**2*(z**(2*tau) + 1)**2 - z**(2*tau)*(beta + g**2 + 1)**2)]])"
      ]
     },
     "execution_count": 2,
     "metadata": {},
     "output_type": "execute_result"
    }
   ],
   "source": [
    "# Define variables\n",
    "g, z, tau, B, h1, h2 = symbols('g z tau beta h1, h2', real=True)\n",
    "\n",
    "# Define C and C^H matrices\n",
    "C = Matrix([[1, g * z**(-tau)],\n",
    "            [g * z**(-tau), 1]])\n",
    "\n",
    "CH = Matrix([[1, g * z**(tau)],\n",
    "             [g * z**(tau), 1]])\n",
    "\n",
    "# Compute CC^H\n",
    "CCH = simplify(C * CH)\n",
    "\n",
    "# Compute regularized inverse of CC^H + B*I\n",
    "denom = simplify((1 + g**2 + B)**2 - (g * (z**(-tau) + z**(tau)))**2)\n",
    "\n",
    "inv_regularized = Matrix([[1 + g**2 + B, -(g * (z**(-tau) + z**(tau)))],\n",
    "                          [-(g * (z**(-tau) + z**(tau))), 1 + g**2 + B]]) / denom\n",
    "\n",
    "# Compute H^{|B|} = (CC^H + B I)^{-1} C^H\n",
    "H_B = simplify(inv_regularized * CH)\n",
    "\n",
    "# Multiply H^{|B|} with C\n",
    "result = simplify(H_B * C)\n",
    "result"
   ]
  },
  {
   "cell_type": "code",
   "execution_count": 3,
   "id": "b1ef95e0-75ab-4361-99f1-66ab1205552f",
   "metadata": {},
   "outputs": [
    {
     "data": {
      "text/latex": [
       "$\\displaystyle \\left[\\begin{matrix}1 & 0\\\\0 & 1\\end{matrix}\\right]$"
      ],
      "text/plain": [
       "Matrix([\n",
       "[1, 0],\n",
       "[0, 1]])"
      ]
     },
     "execution_count": 3,
     "metadata": {},
     "output_type": "execute_result"
    }
   ],
   "source": [
    "result.subs(B, 0).simplify()"
   ]
  },
  {
   "cell_type": "code",
   "execution_count": 4,
   "id": "84b44684-c056-4d9b-92e1-97ed8b7ad707",
   "metadata": {},
   "outputs": [
    {
     "data": {
      "text/latex": [
       "$\\displaystyle \\left[\\begin{matrix}\\frac{g^{2} h_{1} \\left(h_{1} - h_{2} z^{2 \\tau} \\left(\\beta + g^{2} h_{1} h_{2} + 1\\right) + h_{2} z^{2 \\tau}\\right) + z^{2 \\tau} \\left(- \\beta - g^{2} h_{1} h_{2} + g^{2} h_{2} \\left(h_{1} + h_{2} z^{2 \\tau}\\right) - 1\\right)}{g^{2} \\left(h_{1} + h_{2} z^{2 \\tau}\\right)^{2} - z^{2 \\tau} \\left(\\beta + g^{2} h_{1} h_{2} + 1\\right)^{2}} & - \\frac{\\beta g h_{1} z^{\\tau}}{g^{2} \\left(h_{1} + h_{2} z^{2 \\tau}\\right)^{2} - z^{2 \\tau} \\left(\\beta + g^{2} h_{1} h_{2} + 1\\right)^{2}} - \\frac{\\beta g h_{2} z^{3 \\tau}}{g^{2} \\left(h_{1} + h_{2} z^{2 \\tau}\\right)^{2} - z^{2 \\tau} \\left(\\beta + g^{2} h_{1} h_{2} + 1\\right)^{2}}\\\\- \\frac{\\beta g h_{1} z^{\\tau}}{g^{2} \\left(h_{1} + h_{2} z^{2 \\tau}\\right)^{2} - z^{2 \\tau} \\left(\\beta + g^{2} h_{1} h_{2} + 1\\right)^{2}} - \\frac{\\beta g h_{2} z^{3 \\tau}}{g^{2} \\left(h_{1} + h_{2} z^{2 \\tau}\\right)^{2} - z^{2 \\tau} \\left(\\beta + g^{2} h_{1} h_{2} + 1\\right)^{2}} & \\frac{g^{2} h_{1} \\left(h_{1} - h_{2} z^{2 \\tau} \\left(\\beta + g^{2} h_{1} h_{2} + 1\\right) + h_{2} z^{2 \\tau}\\right) + z^{2 \\tau} \\left(- \\beta - g^{2} h_{1} h_{2} + g^{2} h_{2} \\left(h_{1} + h_{2} z^{2 \\tau}\\right) - 1\\right)}{g^{2} \\left(h_{1} + h_{2} z^{2 \\tau}\\right)^{2} - z^{2 \\tau} \\left(\\beta + g^{2} h_{1} h_{2} + 1\\right)^{2}}\\end{matrix}\\right]$"
      ],
      "text/plain": [
       "Matrix([\n",
       "[(g**2*h1*(h1 - h2*z**(2*tau)*(beta + g**2*h1*h2 + 1) + h2*z**(2*tau)) + z**(2*tau)*(-beta - g**2*h1*h2 + g**2*h2*(h1 + h2*z**(2*tau)) - 1))/(g**2*(h1 + h2*z**(2*tau))**2 - z**(2*tau)*(beta + g**2*h1*h2 + 1)**2),                             -beta*g*h1*z**tau/(g**2*(h1 + h2*z**(2*tau))**2 - z**(2*tau)*(beta + g**2*h1*h2 + 1)**2) - beta*g*h2*z**(3*tau)/(g**2*(h1 + h2*z**(2*tau))**2 - z**(2*tau)*(beta + g**2*h1*h2 + 1)**2)],\n",
       "[                            -beta*g*h1*z**tau/(g**2*(h1 + h2*z**(2*tau))**2 - z**(2*tau)*(beta + g**2*h1*h2 + 1)**2) - beta*g*h2*z**(3*tau)/(g**2*(h1 + h2*z**(2*tau))**2 - z**(2*tau)*(beta + g**2*h1*h2 + 1)**2), (g**2*h1*(h1 - h2*z**(2*tau)*(beta + g**2*h1*h2 + 1) + h2*z**(2*tau)) + z**(2*tau)*(-beta - g**2*h1*h2 + g**2*h2*(h1 + h2*z**(2*tau)) - 1))/(g**2*(h1 + h2*z**(2*tau))**2 - z**(2*tau)*(beta + g**2*h1*h2 + 1)**2)]])"
      ]
     },
     "execution_count": 4,
     "metadata": {},
     "output_type": "execute_result"
    }
   ],
   "source": [
    "# Define C and C^H matrices\n",
    "C = Matrix([[1, g * h1 * z**(-tau)],\n",
    "            [g * h1 * z**(-tau), 1]])\n",
    "\n",
    "CH = Matrix([[1, g * h2 * z**(tau)],\n",
    "             [g * h2 * z**(tau), 1]])\n",
    "\n",
    "# Compute CC^H\n",
    "CCH = simplify(C * CH)\n",
    "\n",
    "# Compute regularized inverse of CC^H + B*I\n",
    "denom = simplify((1 + g**2 * h1 * h2 + B)**2 - (g * (h1*z**(-tau) + h2*z**(tau)))**2)\n",
    "\n",
    "inv_regularized = Matrix([[1 + g**2 * h1 * h2 + B, -(g * (h1*z**(-tau) + h2*z**(tau)))],\n",
    "                          [-(g * (h1*z**(-tau) + h2*z**(tau))), 1 + g**2 * h1 * h2 + B]]) / denom\n",
    "\n",
    "# Compute H^{|B|} = (CC^H + B I)^{-1} C^H\n",
    "H_B = simplify(inv_regularized * CH)\n",
    "\n",
    "# Multiply H^{|B|} with C\n",
    "result = simplify(H_B * C)\n",
    "result"
   ]
  },
  {
   "cell_type": "code",
   "execution_count": 11,
   "id": "c9e4737c-b13c-48e1-b32a-8917013cfd89",
   "metadata": {},
   "outputs": [
    {
     "data": {
      "text/latex": [
       "$\\displaystyle \\left[\\begin{matrix}\\frac{g^{2} h_{1} \\left(h_{1} - h_{2} z^{2 \\tau} \\left(g^{2} h_{1} h_{2} + 1.01\\right) + h_{2} z^{2 \\tau}\\right) + z^{2 \\tau} \\left(- g^{2} h_{1} h_{2} + g^{2} h_{2} \\left(h_{1} + h_{2} z^{2 \\tau}\\right) - 1.01\\right)}{g^{2} \\left(h_{1} + h_{2} z^{2 \\tau}\\right)^{2} - 1.0201 z^{2 \\tau} \\left(0.99009900990099 g^{2} h_{1} h_{2} + 1\\right)^{2}} & \\frac{0.01 g z^{\\tau} \\left(- h_{1} - h_{2} z^{2 \\tau}\\right)}{g^{2} \\left(h_{1} + h_{2} z^{2 \\tau}\\right)^{2} - 1.0201 z^{2 \\tau} \\left(0.99009900990099 g^{2} h_{1} h_{2} + 1\\right)^{2}}\\\\\\frac{0.01 g z^{\\tau} \\left(- h_{1} - h_{2} z^{2 \\tau}\\right)}{g^{2} \\left(h_{1} + h_{2} z^{2 \\tau}\\right)^{2} - 1.0201 z^{2 \\tau} \\left(0.99009900990099 g^{2} h_{1} h_{2} + 1\\right)^{2}} & \\frac{g^{2} h_{1} \\left(h_{1} - h_{2} z^{2 \\tau} \\left(g^{2} h_{1} h_{2} + 1.01\\right) + h_{2} z^{2 \\tau}\\right) + z^{2 \\tau} \\left(- g^{2} h_{1} h_{2} + g^{2} h_{2} \\left(h_{1} + h_{2} z^{2 \\tau}\\right) - 1.01\\right)}{g^{2} \\left(h_{1} + h_{2} z^{2 \\tau}\\right)^{2} - 1.0201 z^{2 \\tau} \\left(0.99009900990099 g^{2} h_{1} h_{2} + 1\\right)^{2}}\\end{matrix}\\right]$"
      ],
      "text/plain": [
       "Matrix([\n",
       "[(g**2*h1*(h1 - h2*z**(2*tau)*(g**2*h1*h2 + 1.01) + h2*z**(2*tau)) + z**(2*tau)*(-g**2*h1*h2 + g**2*h2*(h1 + h2*z**(2*tau)) - 1.01))/(g**2*(h1 + h2*z**(2*tau))**2 - 1.0201*z**(2*tau)*(0.99009900990099*g**2*h1*h2 + 1)**2),                                                                                                 0.01*g*z**tau*(-h1 - h2*z**(2*tau))/(g**2*(h1 + h2*z**(2*tau))**2 - 1.0201*z**(2*tau)*(0.99009900990099*g**2*h1*h2 + 1)**2)],\n",
       "[                                                                                                0.01*g*z**tau*(-h1 - h2*z**(2*tau))/(g**2*(h1 + h2*z**(2*tau))**2 - 1.0201*z**(2*tau)*(0.99009900990099*g**2*h1*h2 + 1)**2), (g**2*h1*(h1 - h2*z**(2*tau)*(g**2*h1*h2 + 1.01) + h2*z**(2*tau)) + z**(2*tau)*(-g**2*h1*h2 + g**2*h2*(h1 + h2*z**(2*tau)) - 1.01))/(g**2*(h1 + h2*z**(2*tau))**2 - 1.0201*z**(2*tau)*(0.99009900990099*g**2*h1*h2 + 1)**2)]])"
      ]
     },
     "execution_count": 11,
     "metadata": {},
     "output_type": "execute_result"
    }
   ],
   "source": [
    "result.subs(B, 0.01).simplify()"
   ]
  },
  {
   "cell_type": "code",
   "execution_count": null,
   "id": "b342a980-1781-4e89-895f-8682deccf3e3",
   "metadata": {},
   "outputs": [],
   "source": []
  }
 ],
 "metadata": {
  "kernelspec": {
   "display_name": "Python 3 (ipykernel)",
   "language": "python",
   "name": "python3"
  },
  "language_info": {
   "codemirror_mode": {
    "name": "ipython",
    "version": 3
   },
   "file_extension": ".py",
   "mimetype": "text/x-python",
   "name": "python",
   "nbconvert_exporter": "python",
   "pygments_lexer": "ipython3",
   "version": "3.8.1rc1"
  }
 },
 "nbformat": 4,
 "nbformat_minor": 5
}
